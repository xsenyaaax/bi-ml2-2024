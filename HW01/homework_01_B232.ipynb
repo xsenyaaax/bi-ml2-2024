{
 "cells": [
  {
   "cell_type": "markdown",
   "metadata": {},
   "source": [
    "# Úkol č. 1 - redukce dimenzionality a binární klasifikace\n",
    "\n",
    "  * **Deadline je 22. 4. 2024, 23:59:59**, pokud odevzdáte úkol do 29. 4. 2024, 23:59:59, budete penalizování -12 body, pozdější odevzdání je bez bodu.\n",
    "  * V rámci tohoto úkolu se musíte vypořádat s vysokou dimenzí problému a poté úspěšně aplikovat vhodný klasfikační model.\n",
    "    \n",
    "> **Úkoly jsou zadány tak, aby Vám daly prostor pro invenci. Vymyslet _jak přesně_ budete úkol řešit, je důležitou součástí zadání a originalita či nápaditost bude také hodnocena!**\n",
    "\n",
    "Využívejte buňky typu `Markdown` k vysvětlování Vašeho postupu. Za nepřehlednost budou strhávány body.\n",
    "\n",
    "## Zdroj dat\n",
    "\n",
    " * Zdrojem dat jsou soubory `train.csv` a `evaluate.csv`.\n",
    " * Jedná se o obrázky 28x28 pixelů ve stupních šedi, které byly získány z [Fashion Mnist datasetu](https://www.kaggle.com/datasets/zalando-research/fashionmnist).\n",
    " * Soubor `train.csv` obsahuje trénovací data.\n",
    " * Cílová (vysvětlovaná) proměnná se jmenuje **label**.\n",
    " * Soubor `evaluate.csv` obsahuje testovací data bez hodnot skutečných labelů.\n",
    "\n",
    "## Pokyny k vypracování\n",
    "\n",
    "**Body zadání**, za jejichž (poctivé) vypracování získáte **25 bodů**:\n",
    "  * V notebooku načtěte data ze souboru `train.csv`. Vhodným způsobem si je rozdělte na podmnožiny, které Vám poslouží pro trénování, porovnávání modelů a následnou predikci výkonnosti finálního modelu.\n",
    "  * Proveďte základní průzkum dat a svá pozorování diskutujte. Některé obrázky také zobrazte.\n",
    "  * Postupně aplikujte modely **SVM**, **naivní Bayesův klasifikátor** a **LDA**, přičemž pro každý z nich:\n",
    "      * Okomentujte vhodnost daného modelu pro daný typ úlohy.\n",
    "      * Vyberte si hlavní hyperparametry k ladění (pokud model má hyperparametry) a najděte jejich nejlepší hodnoty.\n",
    "      * Experimentujte se standardizací/normalizací dat.\n",
    "      * U SVM vyzkoušejte alespoň dvě různé jádrové funkce.\n",
    "      * Získané výsledky vždy řádně okomentujte.\n",
    "\n",
    "\n",
    "  * Postupně aplikujte metody redukce dimenzionality PCA a LLE, přičemž pro každou z nich: \n",
    "      * Zopakujte předchozí kroky a pokuste modely vylepšit\n",
    "      * Zkoumejte jaká dimenze je z hlediska výkonnosti finálního modelu nejlepší.\n",
    "      * Získané výsledky vždy řádně okomentujte.\n",
    "    \n",
    "  * Ze všech zkoušených možností vyberte finální model a odhadněte, jakou přesnost můžete očekávat na nových datech, která jste doposud neměli k dispozici.\n",
    "  \n",
    "  * Nakonec načtěte vyhodnocovací data ze souboru`evaluate.csv`. Pomocí finálního modelu napočítejte predikce pro tyto data (vysvětlovaná proměnná v nich již není). Vytvořte soubor `results.csv`, ve kterém získané predikce uložíte do sloupce **label** a identifikátory do sloupce **ID**. Tento soubor též odevzdejte (uložte do projektu vedle notebooku).\n",
    "   \n",
    "   * Ukázka prvních řádků souboru `results.csv`:\n",
    "  \n",
    "```\n",
    "ID,label\n",
    "0,0\n",
    "1,1\n",
    "...\n",
    "```\n",
    "\n",
    "## Poznámky k odevzdání\n",
    "\n",
    "  * Řiďte se pokyny ze stránky https://courses.fit.cvut.cz/BI-ML2/homeworks/index.html.\n",
    "  * Vytvořte i csv soubor `results.csv` s predikcemi a uložte ho v rámci projektu vedle ipython notebooku."
   ]
  },
  {
   "cell_type": "code",
   "execution_count": 7,
   "metadata": {
    "ExecuteTime": {
     "end_time": "2024-04-04T20:35:17.221495Z",
     "start_time": "2024-04-04T20:35:17.218827Z"
    }
   },
   "outputs": [],
   "source": [
    "import pandas as pd\n",
    "from sklearn.model_selection import train_test_split\n",
    "import matplotlib.pyplot as plt\n",
    "from sklearn.preprocessing import StandardScaler, MinMaxScaler\n",
    "from sklearn.metrics import accuracy_score"
   ]
  },
  {
   "cell_type": "markdown",
   "source": [
    "# Dataset import and split\n",
    "\n",
    "Classic dataset split into 3 sets. Also we initialize two scalers to transform our train and validation data. "
   ],
   "metadata": {
    "collapsed": false
   }
  },
  {
   "cell_type": "code",
   "outputs": [],
   "source": [
    "train_data  = pd.read_csv('train.csv')\n",
    "eval_data = pd.read_csv('evaluate.csv')"
   ],
   "metadata": {
    "collapsed": false,
    "ExecuteTime": {
     "end_time": "2024-04-04T20:34:39.845367Z",
     "start_time": "2024-04-04T20:34:39.079371Z"
    }
   },
   "execution_count": 3
  },
  {
   "cell_type": "code",
   "outputs": [
    {
     "name": "stdout",
     "output_type": "stream",
     "text": [
      "Train data size: 1350\n",
      "Validation data size: 450\n",
      "Test data size: 600\n"
     ]
    }
   ],
   "source": [
    "X = train_data.drop(columns=['label'])\n",
    "y = train_data['label']\n",
    "\n",
    "random_seed = 666\n",
    "Xtrain, Xtest, Ytrain, Ytest = train_test_split(X, y, test_size=0.25, random_state=random_seed)\n",
    "Xtrain, Xval, Ytrain, Yval = train_test_split(Xtrain, Ytrain, test_size=0.25, random_state=random_seed)\n",
    "print(\"Train data size:\", len(Xtrain))\n",
    "print(\"Validation data size:\", len(Xval))\n",
    "print(\"Test data size:\", len(Xtest))\n",
    "\n",
    "standard_scaler = StandardScaler()\n",
    "min_max_scaler = MinMaxScaler()\n",
    "\n",
    "# --- standard scaling  -----\n",
    "Xtrain_standard = standard_scaler.fit_transform(Xtrain)\n",
    "Xtrain_standard = pd.DataFrame(Xtrain_standard, columns=Xtrain.columns)\n",
    "Xval_standard = standard_scaler.transform(Xval)\n",
    "Xval_standard = pd.DataFrame(Xval_standard, columns=Xval.columns)\n",
    "\n",
    "\n",
    "# ---- min max scaling -------\n",
    "Xtrain_min_max = min_max_scaler.fit_transform(Xtrain)\n",
    "Xtrain_min_max = pd.DataFrame(Xtrain_min_max, columns=Xtrain.columns)\n",
    "\n",
    "Xval_min_max = min_max_scaler.transform(Xval)\n",
    "Xval_min_max = pd.DataFrame(Xval_min_max, columns=Xval.columns)"
   ],
   "metadata": {
    "collapsed": false,
    "ExecuteTime": {
     "end_time": "2024-04-04T20:53:19.632098Z",
     "start_time": "2024-04-04T20:53:19.543089Z"
    }
   },
   "execution_count": 13
  },
  {
   "cell_type": "markdown",
   "source": [
    "### Basic description od dataset\n",
    "\n",
    "We can see total 2400 data points with 785 total, where 784 columns are individual pixels. Also there is no missing values in this dataset. "
   ],
   "metadata": {
    "collapsed": false
   }
  },
  {
   "cell_type": "code",
   "outputs": [
    {
     "name": "stdout",
     "output_type": "stream",
     "text": [
      "<class 'pandas.core.frame.DataFrame'>\n",
      "RangeIndex: 2400 entries, 0 to 2399\n",
      "Columns: 785 entries, label to pixel784\n",
      "dtypes: int64(785)\n",
      "memory usage: 14.4 MB\n",
      "None\n"
     ]
    }
   ],
   "source": [
    "print(train_data.info())"
   ],
   "metadata": {
    "collapsed": false,
    "ExecuteTime": {
     "end_time": "2024-04-04T20:34:40.757900Z",
     "start_time": "2024-04-04T20:34:40.736295Z"
    }
   },
   "execution_count": 5
  },
  {
   "cell_type": "code",
   "outputs": [
    {
     "name": "stdout",
     "output_type": "stream",
     "text": [
      "There are no missing values in the dataset.\n"
     ]
    }
   ],
   "source": [
    "missing_values = train_data.isna().any().any()\n",
    "if missing_values:\n",
    "    print(\"There are missing values in the dataset.\")\n",
    "else:\n",
    "    print(\"There are no missing values in the dataset.\")"
   ],
   "metadata": {
    "collapsed": false,
    "ExecuteTime": {
     "end_time": "2024-04-02T21:22:01.844924Z",
     "start_time": "2024-04-02T21:22:01.838290Z"
    }
   },
   "execution_count": 94
  },
  {
   "cell_type": "code",
   "outputs": [
    {
     "name": "stdout",
     "output_type": "stream",
     "text": [
      "label\n",
      "0    1238\n",
      "1    1162\n",
      "Name: count, dtype: int64\n"
     ]
    }
   ],
   "source": [
    "print(train_data['label'].value_counts())"
   ],
   "metadata": {
    "collapsed": false,
    "ExecuteTime": {
     "end_time": "2024-04-02T21:22:01.849536Z",
     "start_time": "2024-04-02T21:22:01.845920Z"
    }
   },
   "execution_count": 95
  },
  {
   "cell_type": "code",
   "outputs": [],
   "source": [
    "def show_image(image, label):\n",
    "    plt.figure()\n",
    "    plt.imshow(image.values.reshape(28, 28), cmap='gray')\n",
    "    plt.title('Label: ' + str(label))\n",
    "    plt.show()"
   ],
   "metadata": {
    "collapsed": false,
    "ExecuteTime": {
     "end_time": "2024-04-02T21:22:01.855677Z",
     "start_time": "2024-04-02T21:22:01.849536Z"
    }
   },
   "execution_count": 96
  },
  {
   "cell_type": "code",
   "outputs": [
    {
     "data": {
      "text/plain": "<Figure size 640x480 with 1 Axes>",
      "image/png": "[encoded data removed]"
     },
     "metadata": {},
     "output_type": "display_data"
    },
    {
     "data": {
      "text/plain": "<Figure size 640x480 with 1 Axes>",
      "image/png": "[encoded data removed]"
     },
     "metadata": {},
     "output_type": "display_data"
    },
    {
     "data": {
      "text/plain": "<Figure size 640x480 with 1 Axes>",
      "image/png": "[encoded data removed]"
     },
     "metadata": {},
     "output_type": "display_data"
    }
   ],
   "source": [
    "random_indices = train_data.sample(3).index\n",
    "for index in random_indices:\n",
    "    show_image(train_data.iloc[index, 1:], train_data.iloc[index, 0])"
   ],
   "metadata": {
    "collapsed": false,
    "ExecuteTime": {
     "end_time": "2024-04-02T21:22:02.201476Z",
     "start_time": "2024-04-02T21:22:01.856676Z"
    }
   },
   "execution_count": 97
  },
  {
   "cell_type": "markdown",
   "source": [
    "### Checking dataset by 2D plot\n",
    "\n",
    "I really liked how cool it looked, so I took this code snippet to visualize our data. [source code](https://www.kaggle.com/code/ohseokkim/base-denoising-autoencoder-dimension-reduction). \n",
    "Uniform Manifold Approximation and Projection (UMAP) is a technique for visualizing high-dimensional data in lower-dimensional spaces. In our case we can see 2 clusters with several data points overlapping between other group. So it should be not difficult to predict our values correctly and with high accuracy."
   ],
   "metadata": {
    "collapsed": false
   }
  },
  {
   "cell_type": "code",
   "outputs": [
    {
     "data": {
      "text/plain": "<Axes: >"
     },
     "execution_count": 98,
     "metadata": {},
     "output_type": "execute_result"
    },
    {
     "data": {
      "text/plain": "<Figure size 800x800 with 1 Axes>",
      "image/png": "[encoded data removed]"
     },
     "metadata": {},
     "output_type": "display_data"
    }
   ],
   "source": [
    "import umap.plot\n",
    "\n",
    "mapper_org = umap.UMAP().fit(Xtrain)\n",
    "umap.plot.points(mapper_org, labels=Ytrain, theme='fire')"
   ],
   "metadata": {
    "collapsed": false,
    "ExecuteTime": {
     "end_time": "2024-04-02T21:22:05.576547Z",
     "start_time": "2024-04-02T21:22:02.202472Z"
    }
   },
   "execution_count": 98
  },
  {
   "cell_type": "markdown",
   "source": [
    "## SVM without dimension reduction\n",
    "\n",
    "Suitability of the SVM:\n",
    "* SVMs work well when the classes are linearly separable\n",
    "* Even if the classes are not linearly separable, SVMs can still perform effectively by using non-linear kernels such as radial basis function (RBF) or polynomial kernels. From training results I may suggest that our dataset is not perfectly linearly separable\n",
    "* Our dataset consists of 28x28 pixel images, resulting in a high-dimensional feature space, so SVM can struggle with increased computational complexity."
   ],
   "metadata": {
    "collapsed": false
   }
  },
  {
   "cell_type": "markdown",
   "source": [],
   "metadata": {
    "collapsed": false
   }
  },
  {
   "cell_type": "code",
   "outputs": [],
   "source": [
    "from sklearn.model_selection import ParameterGrid\n",
    "from sklearn.svm import SVC\n",
    "import numpy as np\n",
    "\n",
    "start_C = 0.001\n",
    "end_C = 200\n",
    "num_values = 10\n",
    "C_values = np.logspace(np.log10(start_C), np.log10(end_C), num=num_values)\n",
    "\n",
    "svc_param_grid = {\n",
    "    'C': C_values,\n",
    "    'kernel': ['rbf', 'linear', 'poly']\n",
    "}\n",
    "svc_params_comb = ParameterGrid(svc_param_grid)"
   ],
   "metadata": {
    "collapsed": false,
    "ExecuteTime": {
     "end_time": "2024-04-04T21:41:26.828796Z",
     "start_time": "2024-04-04T21:41:26.825270Z"
    }
   },
   "execution_count": 45
  },
  {
   "cell_type": "code",
   "outputs": [],
   "source": [
    "\n",
    "best_params_svc_orig = None\n",
    "best_accuracy_svc_orig = 0\n",
    "\n",
    "for params in svc_params_comb:\n",
    "    svm_model = SVC(**params, random_state=random_seed)\n",
    "    svm_model.fit(Xtrain, Ytrain)\n",
    "    predictions = svm_model.predict(Xval)\n",
    "    accuracy = accuracy_score(Yval, predictions)\n",
    "    if accuracy > best_accuracy_svc_orig:\n",
    "        best_accuracy_svc_orig = accuracy\n",
    "        best_params_svc_orig = params"
   ],
   "metadata": {
    "collapsed": false,
    "ExecuteTime": {
     "end_time": "2024-04-02T21:22:27.691082Z",
     "start_time": "2024-04-02T21:22:05.583626Z"
    }
   },
   "execution_count": 100
  },
  {
   "cell_type": "code",
   "outputs": [],
   "source": [
    "best_params_svc_standard = None\n",
    "best_accuracy_svc_standard = 0\n",
    "\n",
    "for params in svc_params_comb:\n",
    "    svm_model = SVC(**params, random_state=random_seed)\n",
    "    svm_model.fit(Xtrain_standard, Ytrain)\n",
    "    predictions = svm_model.predict(Xval_standard)\n",
    "    accuracy = accuracy_score(Yval, predictions)\n",
    "    if accuracy > best_accuracy_svc_standard:\n",
    "        best_accuracy_svc_standard = accuracy\n",
    "        best_params_svc_standard = params"
   ],
   "metadata": {
    "collapsed": false,
    "ExecuteTime": {
     "end_time": "2024-04-02T21:22:55.174597Z",
     "start_time": "2024-04-02T21:22:27.692082Z"
    }
   },
   "execution_count": 101
  },
  {
   "cell_type": "code",
   "outputs": [],
   "source": [
    "best_params_svc_minmax = None\n",
    "best_accuracy_svc_minmax = 0\n",
    "\n",
    "for params in svc_params_comb:\n",
    "    svm_model = SVC(**params, random_state=random_seed)\n",
    "    svm_model.fit(Xtrain_min_max, Ytrain)\n",
    "    predictions = svm_model.predict(Xval_min_max)\n",
    "    accuracy = accuracy_score(Yval, predictions)\n",
    "    if accuracy > best_accuracy_svc_minmax:\n",
    "        best_accuracy_svc_minmax = accuracy\n",
    "        best_params_svc_minmax = params"
   ],
   "metadata": {
    "collapsed": false,
    "ExecuteTime": {
     "end_time": "2024-04-02T21:23:16.639200Z",
     "start_time": "2024-04-02T21:22:55.175143Z"
    }
   },
   "execution_count": 102
  },
  {
   "cell_type": "markdown",
   "source": [
    "#### Training results\n",
    "\n",
    "The results suggest that scaling the dataset (both standard scaling and min-max scaling) had a minor impact on model performance. In this case, since scaling had a little to none impact on performance and the original dataset performed well, using the original unscaled dataset may be a reasonable choice for simplicity and interpretability."
   ],
   "metadata": {
    "collapsed": false
   }
  },
  {
   "cell_type": "code",
   "outputs": [
    {
     "name": "stdout",
     "output_type": "stream",
     "text": [
      "SVC Results:\n",
      "\n",
      "==================\n",
      "Original dataframe:\n",
      "Best accuracy on validation data: 0.98\n",
      "Best hyperparameters: {'C': 7.01703828670383, 'kernel': 'rbf'}\n",
      "\n",
      "=========================\n",
      "Standard scaled dataframe\n",
      "Best accuracy on validation data: 0.9733333333333334\n",
      "Best hyperparameters: {'C': 119.37766417144383, 'kernel': 'poly'}\n",
      "\n",
      "=======================\n",
      "Minmax scaled dataframe\n",
      "Best accuracy on validation data: 0.98\n",
      "Best hyperparameters: {'C': 2.424462017082331, 'kernel': 'poly'}\n"
     ]
    }
   ],
   "source": [
    "print(f\"SVC Results:\\n\")\n",
    "\n",
    "print(\"=\"*len(\"Original dataframe\"))\n",
    "print(f\"Original dataframe:\\n\"\n",
    "      f\"Best accuracy on validation data: {best_accuracy_svc_orig}\\n\"\n",
    "      f\"Best hyperparameters: {best_params_svc_orig}\\n\")\n",
    "\n",
    "print(\"=\"*len(\"Standard scaled dataframe\"))\n",
    "print(f\"Standard scaled dataframe\\n\"\n",
    "      f\"Best accuracy on validation data: {best_accuracy_svc_standard:}\\n\"\n",
    "      f\"Best hyperparameters: {best_params_svc_standard}\\n\")\n",
    "\n",
    "print(\"=\"*len(\"Minmax scaled dataframe\"))\n",
    "print(f\"Minmax scaled dataframe\\n\"\n",
    "      f\"Best accuracy on validation data: {best_accuracy_svc_minmax:}\\n\"\n",
    "      f\"Best hyperparameters: {best_params_svc_minmax}\\n\")"
   ],
   "metadata": {
    "collapsed": false,
    "ExecuteTime": {
     "end_time": "2024-04-02T21:33:22.904734Z",
     "start_time": "2024-04-02T21:33:22.900570Z"
    }
   },
   "execution_count": 111
  },
  {
   "cell_type": "markdown",
   "source": [
    "## Naive Bayes without dimension reduction\n",
    "\n",
    "Suitability of the NB:\n",
    "* Can handle high-dimensional data well, making it suitable for datasets with a large number of features\n",
    "* Is computationally efficient and scales well with the size of the dataset and the number of features\n",
    "* In our case the assumption of feature independence may not hold true. In images, adjacent pixels are often correlated, and the presence or absence of a certain pixel value can indeed impact the neighboring pixels. Therefore, the assumption of feature independence is violated in this scenario. But Naive Bayes classifiers are relatively robust and can often handle violations of the independence assumption to some extent\n",
    "\n",
    "Firstly I will try GaussianNB on original and scaled dataset. For GaussianNB, scaling the features using standard scaling or min-max scaling typically does not provide significant benefits. But for the sake of curiosity we will see\n",
    "\n",
    "Other possibility is to use Categorical NB. But since our dataset consists of pixel values, which are continuous, rather than categorical features, CategoricalNB may not be the most appropriate choice. However, again for the sake of curiosity, I will try it. \n",
    "\n",
    "From the results we can see that SVC outperforms Naive Bayes for current task. And that CategoricalNB is better than GaussianNB. I used KBinsDiscretizer to discretize continuous features into discrete bins, which can then be used as input to the CategoricalNB classifier. "
   ],
   "metadata": {
    "collapsed": false
   }
  },
  {
   "cell_type": "code",
   "outputs": [
    {
     "name": "stdout",
     "output_type": "stream",
     "text": [
      "Naive gaussian bayes results:\n",
      "=============================\n",
      "Best accuracy on validation original data: 0.8956\n",
      "Best accuracy on validation standard scaled data: 0.8689\n",
      "Best accuracy on validation min max scaled data: 0.8667\n",
      "\n",
      "Naive Categorical Bayes results:\n",
      "================================\n",
      "Accuracy on validation data (binned): 0.9467\n",
      "Best number of bind: 140\n"
     ]
    }
   ],
   "source": [
    "from sklearn.naive_bayes import GaussianNB, CategoricalNB\n",
    "from sklearn.preprocessing import KBinsDiscretizer\n",
    "\n",
    "clf = GaussianNB()\n",
    "clf.fit(Xtrain, Ytrain)\n",
    "predictions = clf.predict(Xval)\n",
    "accuracy_original = accuracy_score(Yval, predictions)\n",
    "\n",
    "clf = GaussianNB()\n",
    "clf.fit(Xtrain_standard, Ytrain)\n",
    "predictions = clf.predict(Xval_standard)\n",
    "accuracy_standard= accuracy_score(Yval, predictions)\n",
    "\n",
    "clf = GaussianNB()\n",
    "clf.fit(Xtrain_min_max, Ytrain)\n",
    "predictions = clf.predict(Xval_min_max)\n",
    "accuracy_minmax= accuracy_score(Yval, predictions)\n",
    "\n",
    "print(f\"Naive gaussian bayes results:\")\n",
    "print(\"=\"*len(\"Naive gaussian bayes results:\"))\n",
    "print(f\"Best accuracy on validation original data: {accuracy_original:.4f}\")\n",
    "print(f\"Best accuracy on validation standard scaled data: {accuracy_standard:.4f}\")\n",
    "print(f\"Best accuracy on validation min max scaled data: {accuracy_minmax:.4f}\\n\")\n",
    "\n",
    "import warnings\n",
    "warnings.filterwarnings(\"ignore\")\n",
    "clf = CategoricalNB()\n",
    "best_accuracy_categoricalnb = 0\n",
    "best_n_bins = 0\n",
    "for i in range(2, 256, 2):\n",
    "    kbins = KBinsDiscretizer(n_bins=i, encode='ordinal', strategy='uniform')\n",
    "    Xtrain_binned = kbins.fit_transform(Xtrain)\n",
    "    Xval_binned = kbins.transform(Xval)\n",
    "    clf.fit(Xtrain_binned, Ytrain)\n",
    "    predictions = clf.predict(Xval_binned)\n",
    "    accuracy_binned = accuracy_score(Yval, predictions)\n",
    "    if accuracy_binned > best_accuracy_categoricalnb:\n",
    "        best_accuracy_categoricalnb = accuracy_binned\n",
    "        best_n_bins = i\n",
    "        \n",
    "print(\"\\nNaive Categorical Bayes results:\")\n",
    "print(\"=\"*len(\"Naive Categorical Bayes results:\"))\n",
    "print(f\"Accuracy on validation data (binned): {best_accuracy_categoricalnb:.4f}\")\n",
    "print(f\"Best number of bind: {best_n_bins}\")"
   ],
   "metadata": {
    "collapsed": false,
    "ExecuteTime": {
     "end_time": "2024-04-04T21:27:49.045486Z",
     "start_time": "2024-04-04T21:27:29.465853Z"
    }
   },
   "execution_count": 39
  },
  {
   "cell_type": "markdown",
   "source": [],
   "metadata": {
    "collapsed": false
   }
  },
  {
   "cell_type": "markdown",
   "source": [
    "## LDA without dimension reduction\n",
    "\n",
    "Suitability of LDA:\n",
    "* is computationally efficient and can scale well to large datasets. Without the additional step of dimension reduction, the training and prediction times are relatively fast\n",
    "* While LDA can be used without dimension reduction, it's worth considering whether reducing the dimensionality of our dataset could improve classification performance\n",
    "\n",
    "As we can see from results LDA is not affected by feature scaling, although standardizing the features can sometimes improve the convergence speed of optimization algorithms. While LDA showed competitive performance, SVC model exhibited higher accuracies on the validation data"
   ],
   "metadata": {
    "collapsed": false
   }
  },
  {
   "cell_type": "code",
   "outputs": [],
   "source": [
    "from sklearn.discriminant_analysis import LinearDiscriminantAnalysis\n",
    "\n",
    "lda_solvers = ['svd', 'lsqr']"
   ],
   "metadata": {
    "collapsed": false,
    "ExecuteTime": {
     "end_time": "2024-04-02T21:23:16.689904Z",
     "start_time": "2024-04-02T21:23:16.687465Z"
    }
   },
   "execution_count": 105
  },
  {
   "cell_type": "code",
   "outputs": [],
   "source": [
    "best_params_lda_orig = None\n",
    "best_accuracy_lda_orig = 0\n",
    "\n",
    "for solver in lda_solvers:\n",
    "    lda_model = LinearDiscriminantAnalysis(solver=solver)\n",
    "    lda_model.fit(Xtrain, Ytrain)\n",
    "    predictions = lda_model.predict(Xval)\n",
    "    accuracy = accuracy_score(Yval, predictions)\n",
    "    if accuracy > best_accuracy_lda_orig:\n",
    "        best_accuracy_lda_orig = accuracy\n",
    "        best_params_lda_orig = solver   "
   ],
   "metadata": {
    "collapsed": false,
    "ExecuteTime": {
     "end_time": "2024-04-02T21:23:17.510692Z",
     "start_time": "2024-04-02T21:23:16.690902Z"
    }
   },
   "execution_count": 106
  },
  {
   "cell_type": "code",
   "outputs": [],
   "source": [
    "best_params_lda_standard = None\n",
    "best_accuracy_lda_standard = 0\n",
    "\n",
    "for solver in lda_solvers:\n",
    "    lda_model = LinearDiscriminantAnalysis(solver=solver)\n",
    "    lda_model.fit(Xtrain_standard, Ytrain)\n",
    "    predictions = lda_model.predict(Xval_standard)\n",
    "    accuracy = accuracy_score(Yval, predictions)\n",
    "    if accuracy > best_accuracy_lda_standard:\n",
    "        best_accuracy_lda_standard = accuracy\n",
    "        best_params_lda_standard = solver   "
   ],
   "metadata": {
    "collapsed": false,
    "ExecuteTime": {
     "end_time": "2024-04-02T21:23:18.402404Z",
     "start_time": "2024-04-02T21:23:17.510692Z"
    }
   },
   "execution_count": 107
  },
  {
   "cell_type": "code",
   "outputs": [],
   "source": [
    "best_params_lda_minmax = None\n",
    "best_accuracy_lda_minmax = 0\n",
    "\n",
    "for solver in lda_solvers:\n",
    "    lda_model = LinearDiscriminantAnalysis(solver=solver)\n",
    "    lda_model.fit(Xtrain_min_max, Ytrain)\n",
    "    predictions = lda_model.predict(Xval_min_max)\n",
    "    accuracy = accuracy_score(Yval, predictions)\n",
    "    if accuracy > best_accuracy_lda_minmax:\n",
    "        best_accuracy_lda_minmax = accuracy\n",
    "        best_params_lda_minmax = solver "
   ],
   "metadata": {
    "collapsed": false,
    "ExecuteTime": {
     "end_time": "2024-04-02T21:23:19.304412Z",
     "start_time": "2024-04-02T21:23:18.403022Z"
    }
   },
   "execution_count": 108
  },
  {
   "cell_type": "code",
   "outputs": [
    {
     "name": "stdout",
     "output_type": "stream",
     "text": [
      "LDA Results:\n",
      "\n",
      "==================\n",
      "Original dataframe:\n",
      "Best accuracy on validation data: 0.9111111111111111\n",
      "Best hyperparameters: svd\n",
      "\n",
      "=========================\n",
      "Standard scaled dataframe\n",
      "Best accuracy on validation data: 0.9111111111111111\n",
      "Best hyperparameters: svd\n",
      "\n",
      "=======================\n",
      "Minmax scaled dataframe\n",
      "Best accuracy on validation data: 0.9111111111111111\n",
      "Best hyperparameters: svd\n"
     ]
    }
   ],
   "source": [
    "print(f\"LDA Results:\\n\")\n",
    "\n",
    "print(\"=\"*len(\"Original dataframe\"))\n",
    "print(f\"Original dataframe:\\n\"\n",
    "      f\"Best accuracy on validation data: {best_accuracy_lda_orig:}\\n\"\n",
    "      f\"Best hyperparameters: {best_params_lda_orig}\\n\")\n",
    "\n",
    "print(\"=\"*len(\"Standard scaled dataframe\"))\n",
    "print(f\"Standard scaled dataframe\\n\"\n",
    "      f\"Best accuracy on validation data: {best_accuracy_lda_standard:}\\n\"\n",
    "      f\"Best hyperparameters: {best_params_lda_standard}\\n\")\n",
    "\n",
    "print(\"=\"*len(\"Minmax scaled dataframe\"))\n",
    "print(f\"Minmax scaled dataframe\\n\"\n",
    "      f\"Best accuracy on validation data: {best_accuracy_lda_minmax:}\\n\"\n",
    "      f\"Best hyperparameters: {best_params_lda_minmax}\\n\")"
   ],
   "metadata": {
    "collapsed": false,
    "ExecuteTime": {
     "end_time": "2024-04-02T21:23:19.309025Z",
     "start_time": "2024-04-02T21:23:19.305408Z"
    }
   },
   "execution_count": 109
  },
  {
   "cell_type": "markdown",
   "source": [
    "## SVM with dimension reduction"
   ],
   "metadata": {
    "collapsed": false
   }
  },
  {
   "cell_type": "code",
   "outputs": [
    {
     "name": "stdout",
     "output_type": "stream",
     "text": [
      "Trying 1 components\n",
      "New best acc:0.6777777777777778\n",
      "New best acc:0.6822222222222222\n",
      "Trying 3 components\n",
      "New best acc:0.96\n",
      "Trying 5 components\n",
      "New best acc:0.9622222222222222\n",
      "New best acc:0.9644444444444444\n",
      "New best acc:0.9666666666666667\n",
      "Trying 7 components\n",
      "New best acc:0.9688888888888889\n",
      "New best acc:0.9711111111111111\n",
      "New best acc:0.9733333333333334\n",
      "Trying 9 components\n",
      "New best acc:0.9755555555555555\n",
      "Trying 11 components\n",
      "New best acc:0.9777777777777777\n",
      "New best acc:0.98\n",
      "New best acc:0.9822222222222222\n",
      "New best acc:0.9844444444444445\n",
      "Trying 13 components\n",
      "Trying 15 components\n",
      "Trying 17 components\n",
      "Trying 19 components\n",
      "Trying 21 components\n",
      "Trying 23 components\n",
      "Trying 25 components\n",
      "Trying 27 components\n",
      "Trying 29 components\n",
      "Trying 31 components\n",
      "Trying 33 components\n",
      "New best acc:0.9866666666666667\n",
      "Trying 35 components\n",
      "Trying 37 components\n",
      "Trying 39 components\n",
      "Trying 41 components\n",
      "Trying 43 components\n",
      "Trying 45 components\n",
      "Trying 47 components\n",
      "Trying 49 components\n",
      "Trying 51 components\n",
      "Trying 53 components\n",
      "Trying 55 components\n",
      "New best acc:0.9888888888888889\n",
      "Trying 57 components\n",
      "Trying 59 components\n",
      "Trying 61 components\n",
      "New best acc:0.9911111111111112\n",
      "Trying 63 components\n",
      "Trying 65 components\n",
      "Trying 67 components\n",
      "Trying 69 components\n",
      "Trying 71 components\n",
      "Trying 73 components\n",
      "Trying 75 components\n",
      "Trying 77 components\n",
      "Trying 79 components\n"
     ]
    }
   ],
   "source": [
    "from sklearn.decomposition import PCA\n",
    "\n",
    "best_accuracy_svm_pca = 0\n",
    "best_params_svm_pca = {}\n",
    "C_values = [*map(lambda x: x/10.0, range(10,200, 5))]\n",
    "svc_param_grid = {\n",
    "    'C': C_values,\n",
    "    'kernel': ['rbf', 'poly']\n",
    "}\n",
    "svc_params_comb = ParameterGrid(svc_param_grid)\n",
    "\n",
    "for n_components in range(1, 80, 2):\n",
    "    print(f\"Trying {n_components} components\")\n",
    "    pca = PCA(n_components=n_components)\n",
    "    Xtrain_pca = pca.fit_transform(Xtrain)\n",
    "    Xval_pca = pca.transform(Xval)\n",
    "    for svc_params in svc_params_comb:\n",
    "        svm_model = SVC(**svc_params, random_state=random_seed)\n",
    "        svm_model.fit(Xtrain_pca, Ytrain)\n",
    "        predictions = svm_model.predict(Xval_pca)\n",
    "        accuracy = accuracy_score(Yval, predictions)\n",
    "        if accuracy > best_accuracy_svm_pca:\n",
    "            print(f\"New best acc:{accuracy}\")\n",
    "            best_accuracy_svm_pca = accuracy\n",
    "            best_params_svm_pca['PCA'] = {'n_components': n_components}\n",
    "            best_params_svm_pca['SVC'] = svc_params\n"
   ],
   "metadata": {
    "collapsed": false,
    "ExecuteTime": {
     "end_time": "2024-04-04T22:20:27.604379Z",
     "start_time": "2024-04-04T22:19:07.810397Z"
    }
   },
   "execution_count": 70
  },
  {
   "cell_type": "code",
   "outputs": [
    {
     "name": "stdout",
     "output_type": "stream",
     "text": [
      "Best accuracy: 0.9911111111111112\n",
      "Best hyperparameters: {'PCA': {'n_components': 61}, 'SVC': {'C': 7.0, 'kernel': 'rbf'}}\n"
     ]
    }
   ],
   "source": [
    "print(\"Best accuracy:\", best_accuracy_svm_pca)\n",
    "print(\"Best hyperparameters:\", best_params_svm_pca)"
   ],
   "metadata": {
    "collapsed": false,
    "ExecuteTime": {
     "end_time": "2024-04-04T22:20:29.559370Z",
     "start_time": "2024-04-04T22:20:29.555823Z"
    }
   },
   "execution_count": 71
  },
  {
   "cell_type": "code",
   "outputs": [
    {
     "name": "stdout",
     "output_type": "stream",
     "text": [
      "New best acc:0.9866666666666667\n",
      "New best acc:0.9888888888888889\n",
      "New best acc:0.9911111111111112\n"
     ]
    }
   ],
   "source": [
    "best_accuracy_svm_tuning = 0\n",
    "best_params_svm_tuning = {}\n",
    "C_values = [*map(lambda x: x/100.0, range(650,750, 1))]\n",
    "svc_param_grid = {\n",
    "    'C': C_values_tuning,\n",
    "    'kernel': ['rbf', 'poly']\n",
    "}\n",
    "for n_components in range(59,64, 1):\n",
    "    svc_params_comb = ParameterGrid(svc_param_grid)\n",
    "    pca = PCA(n_components=61)\n",
    "    Xtrain_pca = pca.fit_transform(Xtrain)\n",
    "    Xval_pca = pca.transform(Xval)\n",
    "    for svc_params in svc_params_comb:\n",
    "        svm_model = SVC(**svc_params, random_state=random_seed)\n",
    "        svm_model.fit(Xtrain_pca, Ytrain)\n",
    "        predictions = svm_model.predict(Xval_pca)\n",
    "        accuracy = accuracy_score(Yval, predictions)\n",
    "        if accuracy > best_accuracy_svm_tuning:\n",
    "            print(f\"New best acc:{accuracy}\")\n",
    "            best_accuracy_svm_tuning = accuracy\n",
    "            best_params_svm_tuning['PCA'] = {'n_components': n_components}\n",
    "            best_params_svm_tuning['SVC'] = svc_params"
   ],
   "metadata": {
    "collapsed": false,
    "ExecuteTime": {
     "end_time": "2024-04-04T22:28:18.487076Z",
     "start_time": "2024-04-04T22:28:03.052304Z"
    }
   },
   "execution_count": 76
  },
  {
   "cell_type": "code",
   "outputs": [
    {
     "name": "stdout",
     "output_type": "stream",
     "text": [
      "{'PCA': {'n_components': 60}, 'SVC': {'C': 7.04, 'kernel': 'rbf'}}\n"
     ]
    }
   ],
   "source": [
    "print(best_params_svm_tuning)"
   ],
   "metadata": {
    "collapsed": false,
    "ExecuteTime": {
     "end_time": "2024-04-04T22:28:31.362074Z",
     "start_time": "2024-04-04T22:28:31.358417Z"
    }
   },
   "execution_count": 77
  },
  {
   "cell_type": "code",
   "outputs": [],
   "source": [],
   "metadata": {
    "collapsed": false
   }
  }
 ],
 "metadata": {
  "kernelspec": {
   "display_name": "Python 3 (ipykernel)",
   "language": "python",
   "name": "python3"
  },
  "language_info": {
   "codemirror_mode": {
    "name": "ipython",
    "version": 3
   },
   "file_extension": ".py",
   "mimetype": "text/x-python",
   "name": "python",
   "nbconvert_exporter": "python",
   "pygments_lexer": "ipython3",
   "version": "3.10.11"
  }
 },
 "nbformat": 4,
 "nbformat_minor": 4
}
