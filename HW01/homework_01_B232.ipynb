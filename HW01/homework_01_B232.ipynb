{
 "cells": [
  {
   "cell_type": "markdown",
   "metadata": {},
   "source": [
    "# Úkol č. 1 - redukce dimenzionality a binární klasifikace\n",
    "\n",
    "  * **Deadline je 22. 4. 2024, 23:59:59**, pokud odevzdáte úkol do 29. 4. 2024, 23:59:59, budete penalizování -12 body, pozdější odevzdání je bez bodu.\n",
    "  * V rámci tohoto úkolu se musíte vypořádat s vysokou dimenzí problému a poté úspěšně aplikovat vhodný klasfikační model.\n",
    "    \n",
    "> **Úkoly jsou zadány tak, aby Vám daly prostor pro invenci. Vymyslet _jak přesně_ budete úkol řešit, je důležitou součástí zadání a originalita či nápaditost bude také hodnocena!**\n",
    "\n",
    "Využívejte buňky typu `Markdown` k vysvětlování Vašeho postupu. Za nepřehlednost budou strhávány body.\n",
    "\n",
    "## Zdroj dat\n",
    "\n",
    " * Zdrojem dat jsou soubory `train.csv` a `evaluate.csv`.\n",
    " * Jedná se o obrázky 28x28 pixelů ve stupních šedi, které byly získány z [Fashion Mnist datasetu](https://www.kaggle.com/datasets/zalando-research/fashionmnist).\n",
    " * Soubor `train.csv` obsahuje trénovací data.\n",
    " * Cílová (vysvětlovaná) proměnná se jmenuje **label**.\n",
    " * Soubor `evaluate.csv` obsahuje testovací data bez hodnot skutečných labelů.\n",
    "\n",
    "## Pokyny k vypracování\n",
    "\n",
    "**Body zadání**, za jejichž (poctivé) vypracování získáte **25 bodů**:\n",
    "  * V notebooku načtěte data ze souboru `train.csv`. Vhodným způsobem si je rozdělte na podmnožiny, které Vám poslouží pro trénování, porovnávání modelů a následnou predikci výkonnosti finálního modelu.\n",
    "  * Proveďte základní průzkum dat a svá pozorování diskutujte. Některé obrázky také zobrazte.\n",
    "  * Postupně aplikujte modely **SVM**, **naivní Bayesův klasifikátor** a **LDA**, přičemž pro každý z nich:\n",
    "      * Okomentujte vhodnost daného modelu pro daný typ úlohy.\n",
    "      * Vyberte si hlavní hyperparametry k ladění (pokud model má hyperparametry) a najděte jejich nejlepší hodnoty.\n",
    "      * Experimentujte se standardizací/normalizací dat.\n",
    "      * U SVM vyzkoušejte alespoň dvě různé jádrové funkce.\n",
    "      * Získané výsledky vždy řádně okomentujte.\n",
    "\n",
    "\n",
    "  * Postupně aplikujte metody redukce dimenzionality PCA a LLE, přičemž pro každou z nich: \n",
    "      * Zopakujte předchozí kroky a pokuste modely vylepšit\n",
    "      * Zkoumejte jaká dimenze je z hlediska výkonnosti finálního modelu nejlepší.\n",
    "      * Získané výsledky vždy řádně okomentujte.\n",
    "    \n",
    "  * Ze všech zkoušených možností vyberte finální model a odhadněte, jakou přesnost můžete očekávat na nových datech, která jste doposud neměli k dispozici.\n",
    "  \n",
    "  * Nakonec načtěte vyhodnocovací data ze souboru`evaluate.csv`. Pomocí finálního modelu napočítejte predikce pro tyto data (vysvětlovaná proměnná v nich již není). Vytvořte soubor `results.csv`, ve kterém získané predikce uložíte do sloupce **label** a identifikátory do sloupce **ID**. Tento soubor též odevzdejte (uložte do projektu vedle notebooku).\n",
    "   \n",
    "   * Ukázka prvních řádků souboru `results.csv`:\n",
    "  \n",
    "```\n",
    "ID,label\n",
    "0,0\n",
    "1,1\n",
    "...\n",
    "```\n",
    "\n",
    "## Poznámky k odevzdání\n",
    "\n",
    "  * Řiďte se pokyny ze stránky https://courses.fit.cvut.cz/BI-ML2/homeworks/index.html.\n",
    "  * Vytvořte i csv soubor `results.csv` s predikcemi a uložte ho v rámci projektu vedle ipython notebooku."
   ]
  },
  {
   "cell_type": "code",
   "execution_count": 1,
   "metadata": {
    "ExecuteTime": {
     "end_time": "2024-04-05T11:17:57.773988Z",
     "start_time": "2024-04-05T11:17:53.589569Z"
    }
   },
   "outputs": [],
   "source": [
    "import pandas as pd\n",
    "from sklearn.model_selection import train_test_split\n",
    "import matplotlib.pyplot as plt\n",
    "from sklearn.preprocessing import StandardScaler, MinMaxScaler\n",
    "from sklearn.metrics import accuracy_score"
   ]
  },
  {
   "cell_type": "markdown",
   "source": [
    "# Dataset import and split\n",
    "\n",
    "Classic dataset split into 3 sets. Also we initialize two scalers to transform our train and validation data. "
   ],
   "metadata": {
    "collapsed": false
   }
  },
  {
   "cell_type": "code",
   "outputs": [],
   "source": [
    "train_data  = pd.read_csv('train.csv')\n",
    "eval_data = pd.read_csv('evaluate.csv')"
   ],
   "metadata": {
    "collapsed": false,
    "ExecuteTime": {
     "end_time": "2024-04-05T11:18:01.109744Z",
     "start_time": "2024-04-05T11:18:00.489543Z"
    }
   },
   "execution_count": 2
  },
  {
   "cell_type": "code",
   "outputs": [
    {
     "name": "stdout",
     "output_type": "stream",
     "text": [
      "Train data size: 1350\n",
      "Validation data size: 450\n",
      "Test data size: 600\n"
     ]
    }
   ],
   "source": [
    "X = train_data.drop(columns=['label'])\n",
    "y = train_data['label']\n",
    "\n",
    "random_seed = 666\n",
    "Xtrain, Xtest, Ytrain, Ytest = train_test_split(X, y, test_size=0.25, random_state=random_seed)\n",
    "Xtrain, Xval, Ytrain, Yval = train_test_split(Xtrain, Ytrain, test_size=0.25, random_state=random_seed)\n",
    "print(\"Train data size:\", len(Xtrain))\n",
    "print(\"Validation data size:\", len(Xval))\n",
    "print(\"Test data size:\", len(Xtest))\n",
    "\n",
    "standard_scaler = StandardScaler()\n",
    "min_max_scaler = MinMaxScaler()\n",
    "\n",
    "# --- standard scaling  -----\n",
    "Xtrain_standard = standard_scaler.fit_transform(Xtrain)\n",
    "Xtrain_standard = pd.DataFrame(Xtrain_standard, columns=Xtrain.columns)\n",
    "Xval_standard = standard_scaler.transform(Xval)\n",
    "Xval_standard = pd.DataFrame(Xval_standard, columns=Xval.columns)\n",
    "\n",
    "\n",
    "# ---- min max scaling -------\n",
    "Xtrain_min_max = min_max_scaler.fit_transform(Xtrain)\n",
    "Xtrain_min_max = pd.DataFrame(Xtrain_min_max, columns=Xtrain.columns)\n",
    "\n",
    "Xval_min_max = min_max_scaler.transform(Xval)\n",
    "Xval_min_max = pd.DataFrame(Xval_min_max, columns=Xval.columns)"
   ],
   "metadata": {
    "collapsed": false,
    "ExecuteTime": {
     "end_time": "2024-04-05T11:18:09.586022Z",
     "start_time": "2024-04-05T11:18:09.505584Z"
    }
   },
   "execution_count": 3
  },
  {
   "cell_type": "markdown",
   "source": [
    "### Basic description od dataset\n",
    "\n",
    "We can see total 2400 data points with 785 total, where 784 columns are individual pixels. Also there is no missing values in this dataset. "
   ],
   "metadata": {
    "collapsed": false
   }
  },
  {
   "cell_type": "code",
   "outputs": [
    {
     "name": "stdout",
     "output_type": "stream",
     "text": [
      "<class 'pandas.core.frame.DataFrame'>\n",
      "RangeIndex: 2400 entries, 0 to 2399\n",
      "Columns: 785 entries, label to pixel784\n",
      "dtypes: int64(785)\n",
      "memory usage: 14.4 MB\n",
      "None\n"
     ]
    }
   ],
   "source": [
    "print(train_data.info())"
   ],
   "metadata": {
    "collapsed": false,
    "ExecuteTime": {
     "end_time": "2024-04-05T11:18:11.179953Z",
     "start_time": "2024-04-05T11:18:11.157747Z"
    }
   },
   "execution_count": 4
  },
  {
   "cell_type": "code",
   "outputs": [
    {
     "name": "stdout",
     "output_type": "stream",
     "text": [
      "There are no missing values in the dataset.\n"
     ]
    }
   ],
   "source": [
    "missing_values = train_data.isna().any().any()\n",
    "if missing_values:\n",
    "    print(\"There are missing values in the dataset.\")\n",
    "else:\n",
    "    print(\"There are no missing values in the dataset.\")"
   ],
   "metadata": {
    "collapsed": false,
    "ExecuteTime": {
     "end_time": "2024-04-05T11:18:14.927205Z",
     "start_time": "2024-04-05T11:18:14.922483Z"
    }
   },
   "execution_count": 5
  },
  {
   "cell_type": "code",
   "outputs": [
    {
     "name": "stdout",
     "output_type": "stream",
     "text": [
      "label\n",
      "0    1238\n",
      "1    1162\n",
      "Name: count, dtype: int64\n"
     ]
    }
   ],
   "source": [
    "print(train_data['label'].value_counts())"
   ],
   "metadata": {
    "collapsed": false,
    "ExecuteTime": {
     "end_time": "2024-04-05T11:18:15.658428Z",
     "start_time": "2024-04-05T11:18:15.654048Z"
    }
   },
   "execution_count": 6
  },
  {
   "cell_type": "code",
   "outputs": [],
   "source": [
    "def show_image(image, label):\n",
    "    plt.figure()\n",
    "    plt.imshow(image.values.reshape(28, 28), cmap='gray')\n",
    "    plt.title('Label: ' + str(label))\n",
    "    plt.show()"
   ],
   "metadata": {
    "collapsed": false,
    "ExecuteTime": {
     "end_time": "2024-04-02T21:22:01.855677Z",
     "start_time": "2024-04-02T21:22:01.849536Z"
    }
   },
   "execution_count": 96
  },
  {
   "cell_type": "code",
   "outputs": [
    {
     "data": {
      "text/plain": "<Figure size 640x480 with 1 Axes>",
      "image/png": "[encoded data removed]"
     },
     "metadata": {},
     "output_type": "display_data"
    },
    {
     "data": {
      "text/plain": "<Figure size 640x480 with 1 Axes>",
      "image/png": "[encoded data removed]"
     },
     "metadata": {},
     "output_type": "display_data"
    },
    {
     "data": {
      "text/plain": "<Figure size 640x480 with 1 Axes>",
      "image/png": "[encoded data removed]"
     },
     "metadata": {},
     "output_type": "display_data"
    }
   ],
   "source": [
    "random_indices = train_data.sample(3).index\n",
    "for index in random_indices:\n",
    "    show_image(train_data.iloc[index, 1:], train_data.iloc[index, 0])"
   ],
   "metadata": {
    "collapsed": false,
    "ExecuteTime": {
     "end_time": "2024-04-02T21:22:02.201476Z",
     "start_time": "2024-04-02T21:22:01.856676Z"
    }
   },
   "execution_count": 97
  },
  {
   "cell_type": "markdown",
   "source": [
    "### Checking dataset by 2D plot\n",
    "\n",
    "I really liked how cool it looked, so I took this code snippet to visualize our data. [source code](https://www.kaggle.com/code/ohseokkim/base-denoising-autoencoder-dimension-reduction). \n",
    "Uniform Manifold Approximation and Projection (UMAP) is a technique for visualizing high-dimensional data in lower-dimensional spaces. In our case we can see 2 clusters with several data points overlapping between other group. So it should be not difficult to predict our values correctly and with high accuracy."
   ],
   "metadata": {
    "collapsed": false
   }
  },
  {
   "cell_type": "code",
   "outputs": [
    {
     "data": {
      "text/plain": "<Axes: >"
     },
     "execution_count": 7,
     "metadata": {},
     "output_type": "execute_result"
    },
    {
     "data": {
      "text/plain": "<Figure size 800x800 with 1 Axes>",
      "image/png": "[encoded data removed]"
     },
     "metadata": {},
     "output_type": "display_data"
    }
   ],
   "source": [
    "import umap.plot\n",
    "\n",
    "mapper_org = umap.UMAP().fit(Xtrain)\n",
    "umap.plot.points(mapper_org, labels=Ytrain, theme='fire')"
   ],
   "metadata": {
    "collapsed": false,
    "ExecuteTime": {
     "end_time": "2024-04-05T11:18:40.367834Z",
     "start_time": "2024-04-05T11:18:22.447434Z"
    }
   },
   "execution_count": 7
  },
  {
   "cell_type": "markdown",
   "source": [
    "## SVM without dimension reduction\n",
    "\n",
    "Suitability of the SVM:\n",
    "* SVMs work well when the classes are linearly separable\n",
    "* Even if the classes are not linearly separable, SVMs can still perform effectively by using non-linear kernels such as radial basis function (RBF) or polynomial kernels. From training results I may suggest that our dataset is not perfectly linearly separable\n",
    "* Our dataset consists of 28x28 pixel images, resulting in a high-dimensional feature space, so SVM can struggle with increased computational complexity."
   ],
   "metadata": {
    "collapsed": false
   }
  },
  {
   "cell_type": "markdown",
   "source": [],
   "metadata": {
    "collapsed": false
   }
  },
  {
   "cell_type": "code",
   "outputs": [],
   "source": [
    "from sklearn.model_selection import ParameterGrid\n",
    "from sklearn.svm import SVC\n",
    "import numpy as np\n",
    "\n",
    "C_values = [*map(lambda x: x/10.0, range(10,200, 2))]\n",
    "svc_param_grid = {\n",
    "    'C': C_values,\n",
    "    'kernel': ['rbf', 'poly']\n",
    "}\n",
    "svc_params_comb = ParameterGrid(svc_param_grid)"
   ],
   "metadata": {
    "collapsed": false,
    "ExecuteTime": {
     "end_time": "2024-04-05T11:20:19.791934Z",
     "start_time": "2024-04-05T11:20:19.787324Z"
    }
   },
   "execution_count": 9
  },
  {
   "cell_type": "code",
   "outputs": [],
   "source": [
    "best_params_svc_orig = None\n",
    "best_accuracy_svc_orig = 0\n",
    "\n",
    "for params in svc_params_comb:\n",
    "    svm_model = SVC(**params, random_state=random_seed)\n",
    "    svm_model.fit(Xtrain, Ytrain)\n",
    "    predictions = svm_model.predict(Xval)\n",
    "    accuracy = accuracy_score(Yval, predictions)\n",
    "    if accuracy > best_accuracy_svc_orig:\n",
    "        best_accuracy_svc_orig = accuracy\n",
    "        best_params_svc_orig = params"
   ],
   "metadata": {
    "collapsed": false,
    "ExecuteTime": {
     "end_time": "2024-04-05T12:23:49.340622Z",
     "start_time": "2024-04-05T12:23:26.971535Z"
    }
   },
   "execution_count": 22
  },
  {
   "cell_type": "code",
   "outputs": [],
   "source": [
    "best_params_svc_standard = None\n",
    "best_accuracy_svc_standard = 0\n",
    "\n",
    "for params in svc_params_comb:\n",
    "    svm_model = SVC(**params, random_state=random_seed)\n",
    "    svm_model.fit(Xtrain_standard, Ytrain)\n",
    "    predictions = svm_model.predict(Xval_standard)\n",
    "    accuracy = accuracy_score(Yval, predictions)\n",
    "    if accuracy > best_accuracy_svc_standard:\n",
    "        best_accuracy_svc_standard = accuracy\n",
    "        best_params_svc_standard = params"
   ],
   "metadata": {
    "collapsed": false,
    "ExecuteTime": {
     "end_time": "2024-04-05T12:24:22.184864Z",
     "start_time": "2024-04-05T12:23:49.341630Z"
    }
   },
   "execution_count": 23
  },
  {
   "cell_type": "code",
   "outputs": [],
   "source": [
    "best_params_svc_minmax = None\n",
    "best_accuracy_svc_minmax = 0\n",
    "\n",
    "for params in svc_params_comb:\n",
    "    svm_model = SVC(**params, random_state=random_seed)\n",
    "    svm_model.fit(Xtrain_min_max, Ytrain)\n",
    "    predictions = svm_model.predict(Xval_min_max)\n",
    "    accuracy = accuracy_score(Yval, predictions)\n",
    "    if accuracy > best_accuracy_svc_minmax:\n",
    "        best_accuracy_svc_minmax = accuracy\n",
    "        best_params_svc_minmax = params"
   ],
   "metadata": {
    "collapsed": false,
    "ExecuteTime": {
     "end_time": "2024-04-05T12:24:40.563703Z",
     "start_time": "2024-04-05T12:24:22.185871Z"
    }
   },
   "execution_count": 24
  },
  {
   "cell_type": "markdown",
   "source": [
    "#### Training results\n",
    "\n",
    "The results suggest that scaling the dataset (both standard scaling and min-max scaling) had a minor impact on model performance. In this case, since scaling had a little to none impact on performance and the original dataset performed well, using the original unscaled dataset may be a reasonable choice for simplicity and interpretability."
   ],
   "metadata": {
    "collapsed": false
   }
  },
  {
   "cell_type": "code",
   "outputs": [
    {
     "name": "stdout",
     "output_type": "stream",
     "text": [
      "SVC Results:\n",
      "\n",
      "==================\n",
      "Original dataframe:\n",
      "Best accuracy on validation data: 0.9822222222222222\n",
      "Best hyperparameters: {'C': 7.8, 'kernel': 'rbf'}\n",
      "\n",
      "=========================\n",
      "Standard scaled dataframe\n",
      "Best accuracy on validation data: 0.9711111111111111\n",
      "Best hyperparameters: {'C': 18.6, 'kernel': 'poly'}\n",
      "\n",
      "=======================\n",
      "Minmax scaled dataframe\n",
      "Best accuracy on validation data: 0.98\n",
      "Best hyperparameters: {'C': 2.0, 'kernel': 'poly'}\n"
     ]
    }
   ],
   "source": [
    "print(f\"SVC Results:\\n\")\n",
    "\n",
    "print(\"=\"*len(\"Original dataframe\"))\n",
    "print(f\"Original dataframe:\\n\"\n",
    "      f\"Best accuracy on validation data: {best_accuracy_svc_orig}\\n\"\n",
    "      f\"Best hyperparameters: {best_params_svc_orig}\\n\")\n",
    "\n",
    "print(\"=\"*len(\"Standard scaled dataframe\"))\n",
    "print(f\"Standard scaled dataframe\\n\"\n",
    "      f\"Best accuracy on validation data: {best_accuracy_svc_standard:}\\n\"\n",
    "      f\"Best hyperparameters: {best_params_svc_standard}\\n\")\n",
    "\n",
    "print(\"=\"*len(\"Minmax scaled dataframe\"))\n",
    "print(f\"Minmax scaled dataframe\\n\"\n",
    "      f\"Best accuracy on validation data: {best_accuracy_svc_minmax:}\\n\"\n",
    "      f\"Best hyperparameters: {best_params_svc_minmax}\\n\")"
   ],
   "metadata": {
    "collapsed": false,
    "ExecuteTime": {
     "end_time": "2024-04-05T12:24:51.727701Z",
     "start_time": "2024-04-05T12:24:51.722455Z"
    }
   },
   "execution_count": 25
  },
  {
   "cell_type": "markdown",
   "source": [
    "## Naive Bayes without dimension reduction\n",
    "\n",
    "Suitability of the NB:\n",
    "* Can handle high-dimensional data well, making it suitable for datasets with a large number of features\n",
    "* Is computationally efficient and scales well with the size of the dataset and the number of features\n",
    "* In our case the assumption of feature independence may not hold true. In images, adjacent pixels are often correlated, and the presence or absence of a certain pixel value can indeed impact the neighboring pixels. Therefore, the assumption of feature independence is violated in this scenario. But Naive Bayes classifiers are relatively robust and can often handle violations of the independence assumption to some extent\n",
    "\n",
    "Firstly I will try GaussianNB on original and scaled dataset. For GaussianNB, scaling the features using standard scaling or min-max scaling typically does not provide significant benefits. But for the sake of curiosity we will see\n",
    "\n",
    "Other possibility is to use Categorical NB. But since our dataset consists of pixel values, which are continuous, rather than categorical features, CategoricalNB may not be the most appropriate choice. However, again for the sake of curiosity, I will try it. \n",
    "\n",
    "From the results we can see that SVC outperforms Naive Bayes for current task. And that CategoricalNB is better than GaussianNB. I used KBinsDiscretizer to discretize continuous features into discrete bins, which can then be used as input to the CategoricalNB classifier. "
   ],
   "metadata": {
    "collapsed": false
   }
  },
  {
   "cell_type": "code",
   "outputs": [
    {
     "name": "stdout",
     "output_type": "stream",
     "text": [
      "Naive gaussian bayes results:\n",
      "=============================\n",
      "Best accuracy on validation original data: 0.8956\n",
      "Best accuracy on validation standard scaled data: 0.8689\n",
      "Best accuracy on validation min max scaled data: 0.8667\n",
      "\n",
      "Naive Categorical Bayes results:\n",
      "================================\n",
      "Accuracy on validation data (binned): 0.9467\n",
      "Best number of bind: 140\n"
     ]
    }
   ],
   "source": [
    "from sklearn.naive_bayes import GaussianNB, CategoricalNB\n",
    "from sklearn.preprocessing import KBinsDiscretizer\n",
    "\n",
    "clf = GaussianNB()\n",
    "clf.fit(Xtrain, Ytrain)\n",
    "predictions = clf.predict(Xval)\n",
    "accuracy_original = accuracy_score(Yval, predictions)\n",
    "\n",
    "clf = GaussianNB()\n",
    "clf.fit(Xtrain_standard, Ytrain)\n",
    "predictions = clf.predict(Xval_standard)\n",
    "accuracy_standard= accuracy_score(Yval, predictions)\n",
    "\n",
    "clf = GaussianNB()\n",
    "clf.fit(Xtrain_min_max, Ytrain)\n",
    "predictions = clf.predict(Xval_min_max)\n",
    "accuracy_minmax= accuracy_score(Yval, predictions)\n",
    "\n",
    "print(f\"Naive gaussian bayes results:\")\n",
    "print(\"=\"*len(\"Naive gaussian bayes results:\"))\n",
    "print(f\"Best accuracy on validation original data: {accuracy_original:.4f}\")\n",
    "print(f\"Best accuracy on validation standard scaled data: {accuracy_standard:.4f}\")\n",
    "print(f\"Best accuracy on validation min max scaled data: {accuracy_minmax:.4f}\\n\")\n",
    "\n",
    "import warnings\n",
    "warnings.filterwarnings(\"ignore\")\n",
    "clf = CategoricalNB()\n",
    "best_accuracy_categoricalnb = 0\n",
    "best_n_bins = 0\n",
    "for i in range(2, 256, 2):\n",
    "    kbins = KBinsDiscretizer(n_bins=i, encode='ordinal', strategy='uniform')\n",
    "    Xtrain_binned = kbins.fit_transform(Xtrain)\n",
    "    Xval_binned = kbins.transform(Xval)\n",
    "    clf.fit(Xtrain_binned, Ytrain)\n",
    "    predictions = clf.predict(Xval_binned)\n",
    "    accuracy_binned = accuracy_score(Yval, predictions)\n",
    "    if accuracy_binned > best_accuracy_categoricalnb:\n",
    "        best_accuracy_categoricalnb = accuracy_binned\n",
    "        best_n_bins = i\n",
    "        \n",
    "print(\"\\nNaive Categorical Bayes results:\")\n",
    "print(\"=\"*len(\"Naive Categorical Bayes results:\"))\n",
    "print(f\"Accuracy on validation data (binned): {best_accuracy_categoricalnb:.4f}\")\n",
    "print(f\"Best number of bind: {best_n_bins}\")"
   ],
   "metadata": {
    "collapsed": false,
    "ExecuteTime": {
     "end_time": "2024-04-04T22:35:39.906027Z",
     "start_time": "2024-04-04T22:35:20.190885Z"
    }
   },
   "execution_count": 88
  },
  {
   "cell_type": "markdown",
   "source": [],
   "metadata": {
    "collapsed": false
   }
  },
  {
   "cell_type": "markdown",
   "source": [
    "## LDA without dimension reduction\n",
    "\n",
    "Suitability of LDA:\n",
    "* is computationally efficient and can scale well to large datasets. Without the additional step of dimension reduction, the training and prediction times are relatively fast\n",
    "* While LDA can be used without dimension reduction, it's worth considering whether reducing the dimensionality of our dataset could improve classification performance\n",
    "\n",
    "As we can see from results LDA is not affected by feature scaling, although standardizing the features can sometimes improve the convergence speed of optimization algorithms. While LDA showed competitive performance, SVC model exhibited higher accuracies on the validation data"
   ],
   "metadata": {
    "collapsed": false
   }
  },
  {
   "cell_type": "code",
   "outputs": [],
   "source": [
    "from sklearn.discriminant_analysis import LinearDiscriminantAnalysis\n",
    "\n",
    "lda_solvers = ['svd', 'lsqr']"
   ],
   "metadata": {
    "collapsed": false,
    "ExecuteTime": {
     "end_time": "2024-04-04T22:35:47.709007Z",
     "start_time": "2024-04-04T22:35:47.691677Z"
    }
   },
   "execution_count": 89
  },
  {
   "cell_type": "code",
   "outputs": [],
   "source": [
    "best_params_lda_orig = None\n",
    "best_accuracy_lda_orig = 0\n",
    "\n",
    "for solver in lda_solvers:\n",
    "    lda_model = LinearDiscriminantAnalysis(solver=solver)\n",
    "    lda_model.fit(Xtrain, Ytrain)\n",
    "    predictions = lda_model.predict(Xval)\n",
    "    accuracy = accuracy_score(Yval, predictions)\n",
    "    if accuracy > best_accuracy_lda_orig:\n",
    "        best_accuracy_lda_orig = accuracy\n",
    "        best_params_lda_orig = solver   "
   ],
   "metadata": {
    "collapsed": false,
    "ExecuteTime": {
     "end_time": "2024-04-04T22:35:49.229593Z",
     "start_time": "2024-04-04T22:35:48.141907Z"
    }
   },
   "execution_count": 90
  },
  {
   "cell_type": "code",
   "outputs": [],
   "source": [
    "best_params_lda_standard = None\n",
    "best_accuracy_lda_standard = 0\n",
    "\n",
    "for solver in lda_solvers:\n",
    "    lda_model = LinearDiscriminantAnalysis(solver=solver)\n",
    "    lda_model.fit(Xtrain_standard, Ytrain)\n",
    "    predictions = lda_model.predict(Xval_standard)\n",
    "    accuracy = accuracy_score(Yval, predictions)\n",
    "    if accuracy > best_accuracy_lda_standard:\n",
    "        best_accuracy_lda_standard = accuracy\n",
    "        best_params_lda_standard = solver   "
   ],
   "metadata": {
    "collapsed": false,
    "ExecuteTime": {
     "end_time": "2024-04-04T22:35:50.826405Z",
     "start_time": "2024-04-04T22:35:49.644574Z"
    }
   },
   "execution_count": 91
  },
  {
   "cell_type": "code",
   "outputs": [],
   "source": [
    "best_params_lda_minmax = None\n",
    "best_accuracy_lda_minmax = 0\n",
    "\n",
    "for solver in lda_solvers:\n",
    "    lda_model = LinearDiscriminantAnalysis(solver=solver)\n",
    "    lda_model.fit(Xtrain_min_max, Ytrain)\n",
    "    predictions = lda_model.predict(Xval_min_max)\n",
    "    accuracy = accuracy_score(Yval, predictions)\n",
    "    if accuracy > best_accuracy_lda_minmax:\n",
    "        best_accuracy_lda_minmax = accuracy\n",
    "        best_params_lda_minmax = solver "
   ],
   "metadata": {
    "collapsed": false,
    "ExecuteTime": {
     "end_time": "2024-04-04T22:35:52.289934Z",
     "start_time": "2024-04-04T22:35:51.202110Z"
    }
   },
   "execution_count": 92
  },
  {
   "cell_type": "code",
   "outputs": [
    {
     "name": "stdout",
     "output_type": "stream",
     "text": [
      "LDA Results:\n",
      "\n",
      "==================\n",
      "Original dataframe:\n",
      "Best accuracy on validation data: 0.9111111111111111\n",
      "Best hyperparameters: svd\n",
      "\n",
      "=========================\n",
      "Standard scaled dataframe\n",
      "Best accuracy on validation data: 0.9111111111111111\n",
      "Best hyperparameters: svd\n",
      "\n",
      "=======================\n",
      "Minmax scaled dataframe\n",
      "Best accuracy on validation data: 0.9111111111111111\n",
      "Best hyperparameters: svd\n"
     ]
    }
   ],
   "source": [
    "print(f\"LDA Results:\\n\")\n",
    "\n",
    "print(\"=\"*len(\"Original dataframe\"))\n",
    "print(f\"Original dataframe:\\n\"\n",
    "      f\"Best accuracy on validation data: {best_accuracy_lda_orig:}\\n\"\n",
    "      f\"Best hyperparameters: {best_params_lda_orig}\\n\")\n",
    "\n",
    "print(\"=\"*len(\"Standard scaled dataframe\"))\n",
    "print(f\"Standard scaled dataframe\\n\"\n",
    "      f\"Best accuracy on validation data: {best_accuracy_lda_standard:}\\n\"\n",
    "      f\"Best hyperparameters: {best_params_lda_standard}\\n\")\n",
    "\n",
    "print(\"=\"*len(\"Minmax scaled dataframe\"))\n",
    "print(f\"Minmax scaled dataframe\\n\"\n",
    "      f\"Best accuracy on validation data: {best_accuracy_lda_minmax:}\\n\"\n",
    "      f\"Best hyperparameters: {best_params_lda_minmax}\\n\")"
   ],
   "metadata": {
    "collapsed": false,
    "ExecuteTime": {
     "end_time": "2024-04-04T22:35:52.740173Z",
     "start_time": "2024-04-04T22:35:52.735625Z"
    }
   },
   "execution_count": 93
  },
  {
   "cell_type": "markdown",
   "source": [
    "## SVM with dimension reduction \n",
    "\n",
    "Now we will try to reduce dimension. Firstly I will try PCA on different number of components. Based on results above there was no improvement in scaled dataset, so I would not use it.\n",
    "\n",
    "I will limit number of component to 79 in this code snippet. Because I tried larger intervals and it did not show any significant improvement and it would take so much more time to train it."
   ],
   "metadata": {
    "collapsed": false
   }
  },
  {
   "cell_type": "code",
   "outputs": [
    {
     "name": "stdout",
     "output_type": "stream",
     "text": [
      "Trying 1 components\n",
      "New best acc:0.6777777777777778\n",
      "New best acc:0.6822222222222222\n",
      "Trying 2 components\n",
      "New best acc:0.9\n",
      "New best acc:0.9022222222222223\n",
      "Trying 3 components\n",
      "New best acc:0.96\n",
      "Trying 4 components\n",
      "Trying 5 components\n",
      "New best acc:0.9622222222222222\n",
      "New best acc:0.9644444444444444\n",
      "New best acc:0.9666666666666667\n",
      "Trying 6 components\n",
      "New best acc:0.9688888888888889\n",
      "Trying 7 components\n",
      "New best acc:0.9711111111111111\n",
      "New best acc:0.9733333333333334\n",
      "Trying 8 components\n",
      "Trying 9 components\n",
      "New best acc:0.9755555555555555\n",
      "Trying 10 components\n",
      "New best acc:0.9777777777777777\n",
      "New best acc:0.98\n",
      "New best acc:0.9822222222222222\n",
      "New best acc:0.9844444444444445\n",
      "Trying 11 components\n",
      "Trying 12 components\n",
      "Trying 13 components\n",
      "Trying 14 components\n",
      "Trying 15 components\n",
      "Trying 16 components\n",
      "Trying 17 components\n",
      "Trying 18 components\n",
      "Trying 19 components\n",
      "Trying 20 components\n",
      "Trying 21 components\n",
      "Trying 22 components\n",
      "Trying 23 components\n",
      "Trying 24 components\n",
      "Trying 25 components\n",
      "Trying 26 components\n",
      "Trying 27 components\n",
      "Trying 28 components\n",
      "Trying 29 components\n",
      "Trying 30 components\n",
      "Trying 31 components\n",
      "Trying 32 components\n",
      "Trying 33 components\n",
      "New best acc:0.9866666666666667\n",
      "Trying 34 components\n",
      "Trying 35 components\n",
      "Trying 36 components\n",
      "Trying 37 components\n",
      "Trying 38 components\n",
      "Trying 39 components\n",
      "Trying 40 components\n",
      "Trying 41 components\n",
      "Trying 42 components\n",
      "Trying 43 components\n",
      "Trying 44 components\n",
      "Trying 45 components\n",
      "Trying 46 components\n",
      "Trying 47 components\n",
      "Trying 48 components\n",
      "Trying 49 components\n",
      "Trying 50 components\n",
      "Trying 51 components\n",
      "Trying 52 components\n",
      "Trying 53 components\n",
      "Trying 54 components\n",
      "Trying 55 components\n",
      "Trying 56 components\n",
      "New best acc:0.9888888888888889\n",
      "Trying 57 components\n",
      "Trying 58 components\n",
      "Trying 59 components\n",
      "Trying 60 components\n",
      "New best acc:0.9911111111111112\n",
      "Trying 61 components\n",
      "Trying 62 components\n",
      "Trying 63 components\n",
      "Trying 64 components\n",
      "Trying 65 components\n",
      "Trying 66 components\n",
      "Trying 67 components\n",
      "Trying 68 components\n",
      "Trying 69 components\n",
      "Trying 70 components\n",
      "Trying 71 components\n",
      "Trying 72 components\n",
      "Trying 73 components\n",
      "Trying 74 components\n",
      "Trying 75 components\n",
      "Trying 76 components\n",
      "Trying 77 components\n",
      "Trying 78 components\n",
      "Trying 79 components\n"
     ]
    }
   ],
   "source": [
    "from sklearn.decomposition import PCA\n",
    "\n",
    "best_accuracy_svm_pca = 0\n",
    "best_params_svm_pca = {}\n",
    "\n",
    "C_values_pca = [*map(lambda x: x/10.0, range(10,200, 2))]\n",
    "svc_param_grid = {\n",
    "    'C': C_values_pca,\n",
    "    'kernel': ['rbf', 'poly']\n",
    "}\n",
    "svc_params_comb = ParameterGrid(svc_param_grid)\n",
    "accuracy_per_component = {}\n",
    "\n",
    "for n_components in range(1, 80, 1):\n",
    "    print(f\"Trying {n_components} components\")\n",
    "    accuracy_per_component[n_components] = 0\n",
    "    pca = PCA(n_components=n_components)\n",
    "    Xtrain_pca = pca.fit_transform(Xtrain)\n",
    "    Xval_pca = pca.transform(Xval)\n",
    "    for svc_params in svc_params_comb:\n",
    "        svm_model = SVC(**svc_params, random_state=random_seed)\n",
    "        svm_model.fit(Xtrain_pca, Ytrain)\n",
    "        predictions = svm_model.predict(Xval_pca)\n",
    "        accuracy = accuracy_score(Yval, predictions)\n",
    "        if accuracy > accuracy_per_component[n_components]:\n",
    "            accuracy_per_component[n_components] = accuracy\n",
    "        if accuracy > best_accuracy_svm_pca:\n",
    "            print(f\"New best acc:{accuracy}\")\n",
    "            best_accuracy_svm_pca = accuracy\n",
    "            best_params_svm_pca['PCA'] = {'n_components': n_components}\n",
    "            best_params_svm_pca['SVC'] = svc_params"
   ],
   "metadata": {
    "collapsed": false,
    "ExecuteTime": {
     "end_time": "2024-04-05T11:41:17.807017Z",
     "start_time": "2024-04-05T11:34:11.587985Z"
    }
   },
   "execution_count": 15
  },
  {
   "cell_type": "code",
   "outputs": [
    {
     "name": "stdout",
     "output_type": "stream",
     "text": [
      "Trying 100 components\n",
      "New best acc:0.9733333333333334\n",
      "New best acc:0.9755555555555555\n",
      "New best acc:0.9777777777777777\n",
      "New best acc:0.98\n",
      "New best acc:0.9822222222222222\n",
      "New best acc:0.9866666666666667\n",
      "Trying 110 components\n",
      "New best acc:0.9888888888888889\n",
      "Trying 120 components\n",
      "Trying 130 components\n",
      "Trying 140 components\n",
      "New best acc:0.9911111111111112\n",
      "Trying 150 components\n",
      "Trying 160 components\n",
      "Trying 170 components\n",
      "Trying 180 components\n",
      "Trying 190 components\n",
      "Trying 200 components\n",
      "Trying 210 components\n",
      "Trying 220 components\n",
      "Trying 230 components\n",
      "Trying 240 components\n",
      "Trying 250 components\n",
      "Trying 260 components\n",
      "Trying 270 components\n",
      "Trying 280 components\n",
      "Trying 290 components\n",
      "Trying 300 components\n",
      "Trying 310 components\n",
      "Trying 320 components\n"
     ]
    },
    {
     "ename": "KeyboardInterrupt",
     "evalue": "",
     "output_type": "error",
     "traceback": [
      "\u001B[1;31m---------------------------------------------------------------------------\u001B[0m",
      "\u001B[1;31mKeyboardInterrupt\u001B[0m                         Traceback (most recent call last)",
      "Cell \u001B[1;32mIn[18], line 11\u001B[0m\n\u001B[0;32m      9\u001B[0m \u001B[38;5;28;01mfor\u001B[39;00m svc_params \u001B[38;5;129;01min\u001B[39;00m svc_params_comb:\n\u001B[0;32m     10\u001B[0m     svm_model \u001B[38;5;241m=\u001B[39m SVC(\u001B[38;5;241m*\u001B[39m\u001B[38;5;241m*\u001B[39msvc_params, random_state\u001B[38;5;241m=\u001B[39mrandom_seed)\n\u001B[1;32m---> 11\u001B[0m     \u001B[43msvm_model\u001B[49m\u001B[38;5;241;43m.\u001B[39;49m\u001B[43mfit\u001B[49m\u001B[43m(\u001B[49m\u001B[43mXtrain_pca\u001B[49m\u001B[43m,\u001B[49m\u001B[43m \u001B[49m\u001B[43mYtrain\u001B[49m\u001B[43m)\u001B[49m\n\u001B[0;32m     12\u001B[0m     predictions \u001B[38;5;241m=\u001B[39m svm_model\u001B[38;5;241m.\u001B[39mpredict(Xval_pca)\n\u001B[0;32m     13\u001B[0m     accuracy \u001B[38;5;241m=\u001B[39m accuracy_score(Yval, predictions)\n",
      "File \u001B[1;32m~\\AppData\\Local\\Programs\\Python\\Python312\\Lib\\site-packages\\sklearn\\base.py:1474\u001B[0m, in \u001B[0;36m_fit_context.<locals>.decorator.<locals>.wrapper\u001B[1;34m(estimator, *args, **kwargs)\u001B[0m\n\u001B[0;32m   1467\u001B[0m     estimator\u001B[38;5;241m.\u001B[39m_validate_params()\n\u001B[0;32m   1469\u001B[0m \u001B[38;5;28;01mwith\u001B[39;00m config_context(\n\u001B[0;32m   1470\u001B[0m     skip_parameter_validation\u001B[38;5;241m=\u001B[39m(\n\u001B[0;32m   1471\u001B[0m         prefer_skip_nested_validation \u001B[38;5;129;01mor\u001B[39;00m global_skip_validation\n\u001B[0;32m   1472\u001B[0m     )\n\u001B[0;32m   1473\u001B[0m ):\n\u001B[1;32m-> 1474\u001B[0m     \u001B[38;5;28;01mreturn\u001B[39;00m \u001B[43mfit_method\u001B[49m\u001B[43m(\u001B[49m\u001B[43mestimator\u001B[49m\u001B[43m,\u001B[49m\u001B[43m \u001B[49m\u001B[38;5;241;43m*\u001B[39;49m\u001B[43margs\u001B[49m\u001B[43m,\u001B[49m\u001B[43m \u001B[49m\u001B[38;5;241;43m*\u001B[39;49m\u001B[38;5;241;43m*\u001B[39;49m\u001B[43mkwargs\u001B[49m\u001B[43m)\u001B[49m\n",
      "File \u001B[1;32m~\\AppData\\Local\\Programs\\Python\\Python312\\Lib\\site-packages\\sklearn\\svm\\_base.py:250\u001B[0m, in \u001B[0;36mBaseLibSVM.fit\u001B[1;34m(self, X, y, sample_weight)\u001B[0m\n\u001B[0;32m    247\u001B[0m     \u001B[38;5;28mprint\u001B[39m(\u001B[38;5;124m\"\u001B[39m\u001B[38;5;124m[LibSVM]\u001B[39m\u001B[38;5;124m\"\u001B[39m, end\u001B[38;5;241m=\u001B[39m\u001B[38;5;124m\"\u001B[39m\u001B[38;5;124m\"\u001B[39m)\n\u001B[0;32m    249\u001B[0m seed \u001B[38;5;241m=\u001B[39m rnd\u001B[38;5;241m.\u001B[39mrandint(np\u001B[38;5;241m.\u001B[39miinfo(\u001B[38;5;124m\"\u001B[39m\u001B[38;5;124mi\u001B[39m\u001B[38;5;124m\"\u001B[39m)\u001B[38;5;241m.\u001B[39mmax)\n\u001B[1;32m--> 250\u001B[0m \u001B[43mfit\u001B[49m\u001B[43m(\u001B[49m\u001B[43mX\u001B[49m\u001B[43m,\u001B[49m\u001B[43m \u001B[49m\u001B[43my\u001B[49m\u001B[43m,\u001B[49m\u001B[43m \u001B[49m\u001B[43msample_weight\u001B[49m\u001B[43m,\u001B[49m\u001B[43m \u001B[49m\u001B[43msolver_type\u001B[49m\u001B[43m,\u001B[49m\u001B[43m \u001B[49m\u001B[43mkernel\u001B[49m\u001B[43m,\u001B[49m\u001B[43m \u001B[49m\u001B[43mrandom_seed\u001B[49m\u001B[38;5;241;43m=\u001B[39;49m\u001B[43mseed\u001B[49m\u001B[43m)\u001B[49m\n\u001B[0;32m    251\u001B[0m \u001B[38;5;66;03m# see comment on the other call to np.iinfo in this file\u001B[39;00m\n\u001B[0;32m    253\u001B[0m \u001B[38;5;28mself\u001B[39m\u001B[38;5;241m.\u001B[39mshape_fit_ \u001B[38;5;241m=\u001B[39m X\u001B[38;5;241m.\u001B[39mshape \u001B[38;5;28;01mif\u001B[39;00m \u001B[38;5;28mhasattr\u001B[39m(X, \u001B[38;5;124m\"\u001B[39m\u001B[38;5;124mshape\u001B[39m\u001B[38;5;124m\"\u001B[39m) \u001B[38;5;28;01melse\u001B[39;00m (n_samples,)\n",
      "File \u001B[1;32m~\\AppData\\Local\\Programs\\Python\\Python312\\Lib\\site-packages\\sklearn\\svm\\_base.py:329\u001B[0m, in \u001B[0;36mBaseLibSVM._dense_fit\u001B[1;34m(self, X, y, sample_weight, solver_type, kernel, random_seed)\u001B[0m\n\u001B[0;32m    315\u001B[0m libsvm\u001B[38;5;241m.\u001B[39mset_verbosity_wrap(\u001B[38;5;28mself\u001B[39m\u001B[38;5;241m.\u001B[39mverbose)\n\u001B[0;32m    317\u001B[0m \u001B[38;5;66;03m# we don't pass **self.get_params() to allow subclasses to\u001B[39;00m\n\u001B[0;32m    318\u001B[0m \u001B[38;5;66;03m# add other parameters to __init__\u001B[39;00m\n\u001B[0;32m    319\u001B[0m (\n\u001B[0;32m    320\u001B[0m     \u001B[38;5;28mself\u001B[39m\u001B[38;5;241m.\u001B[39msupport_,\n\u001B[0;32m    321\u001B[0m     \u001B[38;5;28mself\u001B[39m\u001B[38;5;241m.\u001B[39msupport_vectors_,\n\u001B[0;32m    322\u001B[0m     \u001B[38;5;28mself\u001B[39m\u001B[38;5;241m.\u001B[39m_n_support,\n\u001B[0;32m    323\u001B[0m     \u001B[38;5;28mself\u001B[39m\u001B[38;5;241m.\u001B[39mdual_coef_,\n\u001B[0;32m    324\u001B[0m     \u001B[38;5;28mself\u001B[39m\u001B[38;5;241m.\u001B[39mintercept_,\n\u001B[0;32m    325\u001B[0m     \u001B[38;5;28mself\u001B[39m\u001B[38;5;241m.\u001B[39m_probA,\n\u001B[0;32m    326\u001B[0m     \u001B[38;5;28mself\u001B[39m\u001B[38;5;241m.\u001B[39m_probB,\n\u001B[0;32m    327\u001B[0m     \u001B[38;5;28mself\u001B[39m\u001B[38;5;241m.\u001B[39mfit_status_,\n\u001B[0;32m    328\u001B[0m     \u001B[38;5;28mself\u001B[39m\u001B[38;5;241m.\u001B[39m_num_iter,\n\u001B[1;32m--> 329\u001B[0m ) \u001B[38;5;241m=\u001B[39m \u001B[43mlibsvm\u001B[49m\u001B[38;5;241;43m.\u001B[39;49m\u001B[43mfit\u001B[49m\u001B[43m(\u001B[49m\n\u001B[0;32m    330\u001B[0m \u001B[43m    \u001B[49m\u001B[43mX\u001B[49m\u001B[43m,\u001B[49m\n\u001B[0;32m    331\u001B[0m \u001B[43m    \u001B[49m\u001B[43my\u001B[49m\u001B[43m,\u001B[49m\n\u001B[0;32m    332\u001B[0m \u001B[43m    \u001B[49m\u001B[43msvm_type\u001B[49m\u001B[38;5;241;43m=\u001B[39;49m\u001B[43msolver_type\u001B[49m\u001B[43m,\u001B[49m\n\u001B[0;32m    333\u001B[0m \u001B[43m    \u001B[49m\u001B[43msample_weight\u001B[49m\u001B[38;5;241;43m=\u001B[39;49m\u001B[43msample_weight\u001B[49m\u001B[43m,\u001B[49m\n\u001B[0;32m    334\u001B[0m \u001B[43m    \u001B[49m\u001B[43mclass_weight\u001B[49m\u001B[38;5;241;43m=\u001B[39;49m\u001B[38;5;28;43mgetattr\u001B[39;49m\u001B[43m(\u001B[49m\u001B[38;5;28;43mself\u001B[39;49m\u001B[43m,\u001B[49m\u001B[43m \u001B[49m\u001B[38;5;124;43m\"\u001B[39;49m\u001B[38;5;124;43mclass_weight_\u001B[39;49m\u001B[38;5;124;43m\"\u001B[39;49m\u001B[43m,\u001B[49m\u001B[43m \u001B[49m\u001B[43mnp\u001B[49m\u001B[38;5;241;43m.\u001B[39;49m\u001B[43mempty\u001B[49m\u001B[43m(\u001B[49m\u001B[38;5;241;43m0\u001B[39;49m\u001B[43m)\u001B[49m\u001B[43m)\u001B[49m\u001B[43m,\u001B[49m\n\u001B[0;32m    335\u001B[0m \u001B[43m    \u001B[49m\u001B[43mkernel\u001B[49m\u001B[38;5;241;43m=\u001B[39;49m\u001B[43mkernel\u001B[49m\u001B[43m,\u001B[49m\n\u001B[0;32m    336\u001B[0m \u001B[43m    \u001B[49m\u001B[43mC\u001B[49m\u001B[38;5;241;43m=\u001B[39;49m\u001B[38;5;28;43mself\u001B[39;49m\u001B[38;5;241;43m.\u001B[39;49m\u001B[43mC\u001B[49m\u001B[43m,\u001B[49m\n\u001B[0;32m    337\u001B[0m \u001B[43m    \u001B[49m\u001B[43mnu\u001B[49m\u001B[38;5;241;43m=\u001B[39;49m\u001B[38;5;28;43mself\u001B[39;49m\u001B[38;5;241;43m.\u001B[39;49m\u001B[43mnu\u001B[49m\u001B[43m,\u001B[49m\n\u001B[0;32m    338\u001B[0m \u001B[43m    \u001B[49m\u001B[43mprobability\u001B[49m\u001B[38;5;241;43m=\u001B[39;49m\u001B[38;5;28;43mself\u001B[39;49m\u001B[38;5;241;43m.\u001B[39;49m\u001B[43mprobability\u001B[49m\u001B[43m,\u001B[49m\n\u001B[0;32m    339\u001B[0m \u001B[43m    \u001B[49m\u001B[43mdegree\u001B[49m\u001B[38;5;241;43m=\u001B[39;49m\u001B[38;5;28;43mself\u001B[39;49m\u001B[38;5;241;43m.\u001B[39;49m\u001B[43mdegree\u001B[49m\u001B[43m,\u001B[49m\n\u001B[0;32m    340\u001B[0m \u001B[43m    \u001B[49m\u001B[43mshrinking\u001B[49m\u001B[38;5;241;43m=\u001B[39;49m\u001B[38;5;28;43mself\u001B[39;49m\u001B[38;5;241;43m.\u001B[39;49m\u001B[43mshrinking\u001B[49m\u001B[43m,\u001B[49m\n\u001B[0;32m    341\u001B[0m \u001B[43m    \u001B[49m\u001B[43mtol\u001B[49m\u001B[38;5;241;43m=\u001B[39;49m\u001B[38;5;28;43mself\u001B[39;49m\u001B[38;5;241;43m.\u001B[39;49m\u001B[43mtol\u001B[49m\u001B[43m,\u001B[49m\n\u001B[0;32m    342\u001B[0m \u001B[43m    \u001B[49m\u001B[43mcache_size\u001B[49m\u001B[38;5;241;43m=\u001B[39;49m\u001B[38;5;28;43mself\u001B[39;49m\u001B[38;5;241;43m.\u001B[39;49m\u001B[43mcache_size\u001B[49m\u001B[43m,\u001B[49m\n\u001B[0;32m    343\u001B[0m \u001B[43m    \u001B[49m\u001B[43mcoef0\u001B[49m\u001B[38;5;241;43m=\u001B[39;49m\u001B[38;5;28;43mself\u001B[39;49m\u001B[38;5;241;43m.\u001B[39;49m\u001B[43mcoef0\u001B[49m\u001B[43m,\u001B[49m\n\u001B[0;32m    344\u001B[0m \u001B[43m    \u001B[49m\u001B[43mgamma\u001B[49m\u001B[38;5;241;43m=\u001B[39;49m\u001B[38;5;28;43mself\u001B[39;49m\u001B[38;5;241;43m.\u001B[39;49m\u001B[43m_gamma\u001B[49m\u001B[43m,\u001B[49m\n\u001B[0;32m    345\u001B[0m \u001B[43m    \u001B[49m\u001B[43mepsilon\u001B[49m\u001B[38;5;241;43m=\u001B[39;49m\u001B[38;5;28;43mself\u001B[39;49m\u001B[38;5;241;43m.\u001B[39;49m\u001B[43mepsilon\u001B[49m\u001B[43m,\u001B[49m\n\u001B[0;32m    346\u001B[0m \u001B[43m    \u001B[49m\u001B[43mmax_iter\u001B[49m\u001B[38;5;241;43m=\u001B[39;49m\u001B[38;5;28;43mself\u001B[39;49m\u001B[38;5;241;43m.\u001B[39;49m\u001B[43mmax_iter\u001B[49m\u001B[43m,\u001B[49m\n\u001B[0;32m    347\u001B[0m \u001B[43m    \u001B[49m\u001B[43mrandom_seed\u001B[49m\u001B[38;5;241;43m=\u001B[39;49m\u001B[43mrandom_seed\u001B[49m\u001B[43m,\u001B[49m\n\u001B[0;32m    348\u001B[0m \u001B[43m\u001B[49m\u001B[43m)\u001B[49m\n\u001B[0;32m    350\u001B[0m \u001B[38;5;28mself\u001B[39m\u001B[38;5;241m.\u001B[39m_warn_from_fit_status()\n",
      "\u001B[1;31mKeyboardInterrupt\u001B[0m: "
     ]
    }
   ],
   "source": [
    "best_accuracy_svm_pca_big = 0\n",
    "best_params_svm_pca_big = {}\n",
    "\n",
    "for n_components in range(100, 740, 10):\n",
    "    print(f\"Trying {n_components} components\")\n",
    "    pca = PCA(n_components=n_components)\n",
    "    Xtrain_pca = pca.fit_transform(Xtrain)\n",
    "    Xval_pca = pca.transform(Xval)\n",
    "    for svc_params in svc_params_comb:\n",
    "        svm_model = SVC(**svc_params, random_state=random_seed)\n",
    "        svm_model.fit(Xtrain_pca, Ytrain)\n",
    "        predictions = svm_model.predict(Xval_pca)\n",
    "        accuracy = accuracy_score(Yval, predictions)\n",
    "        if accuracy > best_accuracy_svm_pca_big:\n",
    "            print(f\"New best acc:{accuracy}\")\n",
    "            best_accuracy_svm_pca_big = accuracy\n",
    "            best_params_svm_pca_big['PCA'] = {'n_components': n_components}\n",
    "            best_params_svm_pca_big['SVC'] = svc_params"
   ],
   "metadata": {
    "collapsed": false,
    "ExecuteTime": {
     "end_time": "2024-04-05T11:48:31.469529Z",
     "start_time": "2024-04-05T11:44:57.206931Z"
    }
   },
   "execution_count": 18
  },
  {
   "cell_type": "markdown",
   "source": [
    "I stopped this, otherwise it would take a long time to finish. But we can see below that best accuracy is same on half of the components so I do not expect that it will increase even a little bit."
   ],
   "metadata": {
    "collapsed": false
   }
  },
  {
   "cell_type": "code",
   "outputs": [
    {
     "name": "stdout",
     "output_type": "stream",
     "text": [
      "0.9911111111111112\n",
      "{'PCA': {'n_components': 140}, 'SVC': {'C': 6.4, 'kernel': 'rbf'}}\n"
     ]
    }
   ],
   "source": [
    "print(best_accuracy_svm_pca_big)\n",
    "print(best_params_svm_pca_big)"
   ],
   "metadata": {
    "collapsed": false,
    "ExecuteTime": {
     "end_time": "2024-04-05T11:49:08.319747Z",
     "start_time": "2024-04-05T11:49:08.316653Z"
    }
   },
   "execution_count": 19
  },
  {
   "cell_type": "markdown",
   "source": [
    "#### Plot of the best accuracy for each number of components\n",
    "\n",
    "Based on the plot below, it's evident that the accuracy remains relatively consistent across different numbers of components. Interestingly, even with half of the 60 components, the accuracy on the validation data remains high, which can highly reduce computational needs. All in all a decrease from 784 features to only 60 is really good. Additionally we increased our best accuracy by a tiny bit. \n",
    "\n",
    "Red line represent best accuracy without dimension reduction"
   ],
   "metadata": {
    "collapsed": false
   }
  },
  {
   "cell_type": "code",
   "outputs": [
    {
     "data": {
      "text/plain": "<Figure size 1000x600 with 1 Axes>",
      "image/png": "[encoded data removed]"
     },
     "metadata": {},
     "output_type": "display_data"
    },
    {
     "name": "stdout",
     "output_type": "stream",
     "text": [
      "SVC with dimension reduction results (PCA):\n",
      "\n",
      "==================\n",
      "Original dataframe:\n",
      "Best accuracy on validation data: 0.9911111111111112\n",
      "Best hyperparameters: {'PCA': {'n_components': 60}, 'SVC': {'C': 8.2, 'kernel': 'rbf'}}\n"
     ]
    }
   ],
   "source": [
    "components = list(accuracy_per_component.keys())\n",
    "accuracies = list(accuracy_per_component.values())\n",
    "\n",
    "plt.figure(figsize=(10, 6))\n",
    "plt.plot(components, accuracies, marker='o', linestyle='-')\n",
    "plt.title('Best Accuracy vs Number of Components')\n",
    "plt.xlabel('Number of Components')\n",
    "plt.ylabel('Best Accuracy')\n",
    "plt.grid(True)\n",
    "plt.xticks(range(0, 80, 5))\n",
    "plt.plot([0, 79], [best_accuracy_svc_orig, best_accuracy_svc_orig],'r-')\n",
    "plt.show()\n",
    "\n",
    "print(f\"SVC with dimension reduction results (PCA):\\n\")\n",
    "\n",
    "print(\"=\"*len(\"Original dataframe\"))\n",
    "print(f\"Original dataframe:\\n\"\n",
    "      f\"Best accuracy on validation data: {best_accuracy_svm_pca}\\n\"\n",
    "      f\"Best hyperparameters: {best_params_svm_pca}\\n\")"
   ],
   "metadata": {
    "collapsed": false,
    "ExecuteTime": {
     "end_time": "2024-04-05T12:31:48.191627Z",
     "start_time": "2024-04-05T12:31:48.042532Z"
    }
   },
   "execution_count": 27
  },
  {
   "cell_type": "code",
   "outputs": [
    {
     "name": "stdout",
     "output_type": "stream",
     "text": [
      "n_components: 2, n_neighbors: 5\n",
      "New best acc:0.9488888888888889\n",
      "New best acc:0.9511111111111111\n",
      "n_components: 2, n_neighbors: 10\n",
      "New best acc:0.9533333333333334\n",
      "n_components: 2, n_neighbors: 15\n",
      "n_components: 2, n_neighbors: 20\n",
      "n_components: 2, n_neighbors: 25\n",
      "New best acc:0.96\n",
      "New best acc:0.9622222222222222\n",
      "n_components: 4, n_neighbors: 5\n",
      "n_components: 4, n_neighbors: 10\n",
      "New best acc:0.9644444444444444\n",
      "New best acc:0.9666666666666667\n",
      "New best acc:0.9688888888888889\n",
      "n_components: 4, n_neighbors: 15\n",
      "n_components: 4, n_neighbors: 20\n",
      "n_components: 4, n_neighbors: 25\n",
      "n_components: 6, n_neighbors: 5\n",
      "n_components: 6, n_neighbors: 10\n",
      "n_components: 6, n_neighbors: 15\n",
      "n_components: 6, n_neighbors: 20\n",
      "New best acc:0.9711111111111111\n",
      "n_components: 6, n_neighbors: 25\n",
      "n_components: 8, n_neighbors: 5\n",
      "n_components: 8, n_neighbors: 10\n",
      "n_components: 8, n_neighbors: 15\n",
      "n_components: 8, n_neighbors: 20\n",
      "n_components: 8, n_neighbors: 25\n",
      "New best acc:0.9733333333333334\n",
      "n_components: 10, n_neighbors: 5\n",
      "n_components: 10, n_neighbors: 10\n",
      "n_components: 10, n_neighbors: 15\n",
      "n_components: 10, n_neighbors: 20\n",
      "n_components: 10, n_neighbors: 25\n",
      "New best acc:0.9755555555555555\n",
      "n_components: 12, n_neighbors: 5\n",
      "n_components: 12, n_neighbors: 10\n",
      "New best acc:0.9777777777777777\n",
      "n_components: 12, n_neighbors: 15\n",
      "n_components: 12, n_neighbors: 20\n",
      "n_components: 12, n_neighbors: 25\n",
      "n_components: 14, n_neighbors: 5\n",
      "n_components: 14, n_neighbors: 10\n",
      "n_components: 14, n_neighbors: 15\n",
      "n_components: 14, n_neighbors: 20\n",
      "n_components: 14, n_neighbors: 25\n",
      "n_components: 16, n_neighbors: 5\n",
      "n_components: 16, n_neighbors: 10\n",
      "n_components: 16, n_neighbors: 15\n",
      "n_components: 16, n_neighbors: 20\n",
      "n_components: 16, n_neighbors: 25\n",
      "New best acc:0.98\n",
      "New best acc:0.9822222222222222\n",
      "n_components: 18, n_neighbors: 5\n",
      "n_components: 18, n_neighbors: 10\n",
      "n_components: 18, n_neighbors: 15\n",
      "n_components: 18, n_neighbors: 20\n",
      "n_components: 18, n_neighbors: 25\n",
      "n_components: 20, n_neighbors: 5\n",
      "n_components: 20, n_neighbors: 10\n",
      "n_components: 20, n_neighbors: 15\n",
      "n_components: 20, n_neighbors: 20\n",
      "n_components: 20, n_neighbors: 25\n",
      "n_components: 22, n_neighbors: 5\n",
      "n_components: 22, n_neighbors: 10\n",
      "n_components: 22, n_neighbors: 15\n",
      "n_components: 22, n_neighbors: 20\n",
      "n_components: 22, n_neighbors: 25\n",
      "n_components: 24, n_neighbors: 5\n",
      "n_components: 24, n_neighbors: 10\n",
      "n_components: 24, n_neighbors: 15\n",
      "n_components: 24, n_neighbors: 20\n",
      "n_components: 24, n_neighbors: 25\n",
      "n_components: 26, n_neighbors: 5\n",
      "n_components: 26, n_neighbors: 10\n",
      "n_components: 26, n_neighbors: 15\n",
      "n_components: 26, n_neighbors: 20\n",
      "n_components: 26, n_neighbors: 25\n",
      "n_components: 28, n_neighbors: 5\n",
      "n_components: 28, n_neighbors: 10\n",
      "n_components: 28, n_neighbors: 15\n",
      "n_components: 28, n_neighbors: 20\n",
      "n_components: 28, n_neighbors: 25\n",
      "n_components: 30, n_neighbors: 5\n",
      "n_components: 30, n_neighbors: 10\n",
      "n_components: 30, n_neighbors: 15\n",
      "n_components: 30, n_neighbors: 20\n",
      "n_components: 30, n_neighbors: 25\n",
      "n_components: 32, n_neighbors: 5\n",
      "n_components: 32, n_neighbors: 10\n",
      "n_components: 32, n_neighbors: 15\n",
      "n_components: 32, n_neighbors: 20\n",
      "n_components: 32, n_neighbors: 25\n",
      "n_components: 34, n_neighbors: 5\n",
      "n_components: 34, n_neighbors: 10\n",
      "n_components: 34, n_neighbors: 15\n",
      "n_components: 34, n_neighbors: 20\n",
      "n_components: 34, n_neighbors: 25\n",
      "n_components: 36, n_neighbors: 5\n",
      "n_components: 36, n_neighbors: 10\n",
      "n_components: 36, n_neighbors: 15\n",
      "n_components: 36, n_neighbors: 20\n",
      "n_components: 36, n_neighbors: 25\n",
      "n_components: 38, n_neighbors: 5\n",
      "n_components: 38, n_neighbors: 10\n",
      "n_components: 38, n_neighbors: 15\n",
      "n_components: 38, n_neighbors: 20\n",
      "n_components: 38, n_neighbors: 25\n",
      "n_components: 40, n_neighbors: 5\n",
      "n_components: 40, n_neighbors: 10\n",
      "n_components: 40, n_neighbors: 15\n",
      "n_components: 40, n_neighbors: 20\n",
      "n_components: 40, n_neighbors: 25\n",
      "n_components: 42, n_neighbors: 5\n",
      "n_components: 42, n_neighbors: 10\n",
      "n_components: 42, n_neighbors: 15\n",
      "n_components: 42, n_neighbors: 20\n",
      "n_components: 42, n_neighbors: 25\n",
      "n_components: 44, n_neighbors: 5\n",
      "n_components: 44, n_neighbors: 10\n",
      "n_components: 44, n_neighbors: 15\n",
      "n_components: 44, n_neighbors: 20\n",
      "n_components: 44, n_neighbors: 25\n",
      "n_components: 46, n_neighbors: 5\n",
      "n_components: 46, n_neighbors: 10\n",
      "n_components: 46, n_neighbors: 15\n",
      "n_components: 46, n_neighbors: 20\n",
      "n_components: 46, n_neighbors: 25\n",
      "n_components: 48, n_neighbors: 5\n",
      "n_components: 48, n_neighbors: 10\n",
      "n_components: 48, n_neighbors: 15\n",
      "n_components: 48, n_neighbors: 20\n",
      "n_components: 48, n_neighbors: 25\n",
      "n_components: 50, n_neighbors: 5\n",
      "n_components: 50, n_neighbors: 10\n",
      "n_components: 50, n_neighbors: 15\n",
      "n_components: 50, n_neighbors: 20\n",
      "n_components: 50, n_neighbors: 25\n",
      "n_components: 52, n_neighbors: 5\n",
      "n_components: 52, n_neighbors: 10\n",
      "n_components: 52, n_neighbors: 15\n",
      "n_components: 52, n_neighbors: 20\n",
      "n_components: 52, n_neighbors: 25\n",
      "n_components: 54, n_neighbors: 5\n",
      "n_components: 54, n_neighbors: 10\n",
      "n_components: 54, n_neighbors: 15\n",
      "n_components: 54, n_neighbors: 20\n",
      "n_components: 54, n_neighbors: 25\n",
      "n_components: 56, n_neighbors: 5\n",
      "n_components: 56, n_neighbors: 10\n",
      "n_components: 56, n_neighbors: 15\n",
      "n_components: 56, n_neighbors: 20\n",
      "n_components: 56, n_neighbors: 25\n",
      "n_components: 58, n_neighbors: 5\n",
      "n_components: 58, n_neighbors: 10\n",
      "n_components: 58, n_neighbors: 15\n",
      "n_components: 58, n_neighbors: 20\n",
      "n_components: 58, n_neighbors: 25\n",
      "n_components: 60, n_neighbors: 5\n",
      "n_components: 60, n_neighbors: 10\n",
      "n_components: 60, n_neighbors: 15\n",
      "n_components: 60, n_neighbors: 20\n",
      "n_components: 60, n_neighbors: 25\n",
      "n_components: 62, n_neighbors: 5\n",
      "n_components: 62, n_neighbors: 10\n",
      "n_components: 62, n_neighbors: 15\n",
      "n_components: 62, n_neighbors: 20\n",
      "n_components: 62, n_neighbors: 25\n",
      "n_components: 64, n_neighbors: 5\n",
      "n_components: 64, n_neighbors: 10\n",
      "n_components: 64, n_neighbors: 15\n",
      "n_components: 64, n_neighbors: 20\n",
      "n_components: 64, n_neighbors: 25\n",
      "n_components: 66, n_neighbors: 5\n",
      "n_components: 66, n_neighbors: 10\n",
      "n_components: 66, n_neighbors: 15\n",
      "n_components: 66, n_neighbors: 20\n",
      "n_components: 66, n_neighbors: 25\n",
      "n_components: 68, n_neighbors: 5\n",
      "n_components: 68, n_neighbors: 10\n",
      "n_components: 68, n_neighbors: 15\n",
      "n_components: 68, n_neighbors: 20\n",
      "n_components: 68, n_neighbors: 25\n",
      "n_components: 70, n_neighbors: 5\n",
      "n_components: 70, n_neighbors: 10\n",
      "n_components: 70, n_neighbors: 15\n",
      "n_components: 70, n_neighbors: 20\n",
      "n_components: 70, n_neighbors: 25\n",
      "n_components: 72, n_neighbors: 5\n",
      "n_components: 72, n_neighbors: 10\n",
      "n_components: 72, n_neighbors: 15\n",
      "n_components: 72, n_neighbors: 20\n",
      "n_components: 72, n_neighbors: 25\n",
      "n_components: 74, n_neighbors: 5\n",
      "n_components: 74, n_neighbors: 10\n",
      "n_components: 74, n_neighbors: 15\n",
      "n_components: 74, n_neighbors: 20\n",
      "n_components: 74, n_neighbors: 25\n",
      "n_components: 76, n_neighbors: 5\n",
      "n_components: 76, n_neighbors: 10\n",
      "n_components: 76, n_neighbors: 15\n",
      "n_components: 76, n_neighbors: 20\n",
      "n_components: 76, n_neighbors: 25\n",
      "n_components: 78, n_neighbors: 5\n",
      "n_components: 78, n_neighbors: 10\n",
      "n_components: 78, n_neighbors: 15\n",
      "n_components: 78, n_neighbors: 20\n",
      "n_components: 78, n_neighbors: 25\n"
     ]
    }
   ],
   "source": [
    "from sklearn.manifold import LocallyLinearEmbedding\n",
    "\n",
    "best_accuracy_svm_lle = 0\n",
    "best_params_svm_lle = {}\n",
    "\n",
    "for n_components in range(2, 80, 2):\n",
    "    for n_neighbors in range(5, 30, 5):\n",
    "        print(f\"n_components: {n_components}, n_neighbors: {n_neighbors}\")\n",
    "        lle = LocallyLinearEmbedding(n_components=n_components, n_neighbors=n_neighbors)\n",
    "        Xtrain_lle = lle.fit_transform(Xtrain)\n",
    "        Xval_lle = lle.transform(Xval)\n",
    "        for svc_params in svc_params_comb:\n",
    "            svm_model = SVC(**svc_params, random_state=random_seed)\n",
    "            svm_model.fit(Xtrain_lle, Ytrain)\n",
    "            predictions = svm_model.predict(Xval_lle)\n",
    "            accuracy = accuracy_score(Yval, predictions)\n",
    "            if accuracy > best_accuracy_svm_lle:\n",
    "                print(f\"New best acc:{accuracy}\")\n",
    "                best_accuracy_svm_lle = accuracy\n",
    "                best_params_svm_lle['LLE'] = {'n_components': n_components, 'n_neighbors': n_neighbors}\n",
    "                best_params_svm_lle['SVC'] = svc_params"
   ],
   "metadata": {
    "collapsed": false,
    "ExecuteTime": {
     "end_time": "2024-04-05T13:00:40.527857Z",
     "start_time": "2024-04-05T12:40:26.808638Z"
    }
   },
   "execution_count": 31
  },
  {
   "cell_type": "markdown",
   "source": [
    "Unfortunately we got worse results from LLE then from PCA. But we matched accuracy for SVC without dimension reduction. "
   ],
   "metadata": {
    "collapsed": false
   }
  },
  {
   "cell_type": "code",
   "outputs": [
    {
     "name": "stdout",
     "output_type": "stream",
     "text": [
      "SVC with dimension reduction results (LLE):\n",
      "\n",
      "==================\n",
      "Original dataframe:\n",
      "Best accuracy on validation data: 0.9822222222222222\n",
      "Best hyperparameters: {'LLE': {'n_components': 16, 'n_neighbors': 25}, 'SVC': {'C': 8.4, 'kernel': 'rbf'}}\n"
     ]
    }
   ],
   "source": [
    "print(f\"SVC with dimension reduction results (LLE):\\n\")\n",
    "\n",
    "print(\"=\"*len(\"Original dataframe\"))\n",
    "print(f\"Original dataframe:\\n\"\n",
    "      f\"Best accuracy on validation data: {best_accuracy_svm_lle}\\n\"\n",
    "      f\"Best hyperparameters: {best_params_svm_lle}\\n\")"
   ],
   "metadata": {
    "collapsed": false,
    "ExecuteTime": {
     "end_time": "2024-04-05T13:00:40.532726Z",
     "start_time": "2024-04-05T13:00:40.528866Z"
    }
   },
   "execution_count": 32
  },
  {
   "cell_type": "code",
   "outputs": [],
   "source": [],
   "metadata": {
    "collapsed": false
   }
  }
 ],
 "metadata": {
  "kernelspec": {
   "display_name": "Python 3 (ipykernel)",
   "language": "python",
   "name": "python3"
  },
  "language_info": {
   "codemirror_mode": {
    "name": "ipython",
    "version": 3
   },
   "file_extension": ".py",
   "mimetype": "text/x-python",
   "name": "python",
   "nbconvert_exporter": "python",
   "pygments_lexer": "ipython3",
   "version": "3.10.11"
  }
 },
 "nbformat": 4,
 "nbformat_minor": 4
}
